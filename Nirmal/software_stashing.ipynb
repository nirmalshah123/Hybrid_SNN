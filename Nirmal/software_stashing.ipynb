{
 "cells": [
  {
   "attachments": {},
   "cell_type": "markdown",
   "metadata": {},
   "source": [
    "In this notebook, we would stash some of our nodes, and see the performance of the code.\n",
    "The number of epochs taken are 3, and batch size = 64"
   ]
  },
  {
   "cell_type": "code",
   "execution_count": 1,
   "metadata": {},
   "outputs": [],
   "source": [
    "# Improting all the libraries\n",
    "import torch\n",
    "from torch.utils.data import DataLoader\n",
    "from matplotlib import pyplot as plt\n",
    "import torch.nn as nn\n",
    "from torch import optim\n",
    "import cv2\n",
    "import numpy as np\n",
    "import torchvision\n",
    "import copy"
   ]
  },
  {
   "cell_type": "code",
   "execution_count": 2,
   "metadata": {},
   "outputs": [
    {
     "data": {
      "text/plain": [
       "device(type='cuda')"
      ]
     },
     "execution_count": 2,
     "metadata": {},
     "output_type": "execute_result"
    }
   ],
   "source": [
    "# Defining Hyper-parameters\n",
    "epochs = 5\n",
    "batch_size = 64\n",
    "device = torch.device(\"cuda\" if torch.cuda.is_available() else \"cpu\")\n",
    "device"
   ]
  },
  {
   "cell_type": "code",
   "execution_count": 3,
   "metadata": {},
   "outputs": [],
   "source": [
    "transform = torchvision.transforms.Compose([torchvision.transforms.ToTensor()])\n",
    "train_set = torchvision.datasets.MNIST(root='data',train=True, transform=transform, download=True)\n",
    "test_set = torchvision.datasets.MNIST(root='data', train=False, transform=transform, download=True)\n",
    "\n",
    "train_loader = DataLoader(train_set,shuffle=True,batch_size = batch_size)\n",
    "test_loader = DataLoader(test_set,shuffle=False, batch_size=batch_size)"
   ]
  },
  {
   "cell_type": "code",
   "execution_count": 4,
   "metadata": {},
   "outputs": [],
   "source": [
    "# Here we are creating a single hidden layer NN, with 150 nodes\n",
    "class trial_2(nn.Module):\n",
    "\n",
    "    def __init__(self, num_hidden_layer=150):\n",
    "        super(trial_2,self).__init__()\n",
    "\n",
    "        self.input_layer = nn.ModuleList([nn.Linear(in_features=784, out_features=1) for i in range(num_hidden_layer)])\n",
    "        self.activation = nn.ReLU()\n",
    "        self.output_layer = nn.Linear(in_features=num_hidden_layer, out_features=10)\n",
    "    \n",
    "    def forward(self,x):\n",
    "        x_input = [self.input_layer[i](x) for i in range(num_hidden_layer)]\n",
    "        x_hidden = torch.hstack(x_input)\n",
    "        x_f = self.activation(x_hidden)\n",
    "        outp = self.output_layer(x_f)\n",
    "        return(outp)"
   ]
  },
  {
   "cell_type": "code",
   "execution_count": 5,
   "metadata": {},
   "outputs": [
    {
     "data": {
      "text/plain": [
       "True"
      ]
     },
     "execution_count": 5,
     "metadata": {},
     "output_type": "execute_result"
    }
   ],
   "source": [
    "# Number of hidden Layer\n",
    "num_hidden_layer = 150\n",
    "model = trial_2(num_hidden_layer=num_hidden_layer).to(device)\n",
    "next(model.parameters()).is_cuda"
   ]
  },
  {
   "cell_type": "code",
   "execution_count": 6,
   "metadata": {},
   "outputs": [],
   "source": [
    "criteration = nn.CrossEntropyLoss()\n",
    "optimizer = torch.optim.Adam(model.parameters(), lr= 0.001)"
   ]
  },
  {
   "cell_type": "code",
   "execution_count": 7,
   "metadata": {},
   "outputs": [],
   "source": [
    "# Function to get accuracy on testing data\n",
    "def accuracy():\n",
    "    with torch.no_grad():\n",
    "        n_correct = 0\n",
    "        n_samples = 0\n",
    "        for images, labels in test_loader:\n",
    "            images = images.reshape(-1, 28*28).to(device)\n",
    "            labels = labels.to(device)\n",
    "            outputs = model(images)\n",
    "            _, predicted = torch.max(outputs.data, 1)\n",
    "            n_samples += labels.size(0)\n",
    "            n_correct += (predicted == labels).sum().item()\n",
    "            return(n_correct/n_samples * 100)\n",
    "\n",
    "def reset_grad():\n",
    "    for params in model.parameters():\n",
    "        params.require_grad = True"
   ]
  },
  {
   "cell_type": "code",
   "execution_count": 8,
   "metadata": {},
   "outputs": [
    {
     "data": {
      "text/plain": [
       "[91, 124, 90, 121, 34, 108, 10, 116, 3, 44, 74, 128, 61, 57, 1]"
      ]
     },
     "execution_count": 8,
     "metadata": {},
     "output_type": "execute_result"
    }
   ],
   "source": [
    "# Generating non duplicate random nodes to be stashed out of hidden layer per epoch \n",
    "import random\n",
    "stashed = random.sample(range(num_hidden_layer), 15)\n",
    "stashed"
   ]
  },
  {
   "cell_type": "code",
   "execution_count": 9,
   "metadata": {},
   "outputs": [
    {
     "name": "stdout",
     "output_type": "stream",
     "text": [
      "Accuracy is 93.75\n",
      "Node stashed 91\n",
      "-------------------------\n",
      "Epoch [1/5], Step[500/938], Loss: 0.2075\n",
      "-------------------------\n",
      "Accuracy is 95.3125\n",
      "Node stashed 124\n",
      "-------------------------\n",
      "Accuracy is 96.875\n",
      "Node stashed 90\n",
      "-------------------------\n",
      "Accuracy is 98.4375\n",
      "Node stashed 121\n",
      "-------------------------\n",
      "Epoch [2/5], Step[500/938], Loss: 0.1102\n",
      "-------------------------\n",
      "Accuracy is 96.875\n",
      "Node stashed 34\n",
      "-------------------------\n",
      "Accuracy is 98.4375\n",
      "Node stashed 108\n",
      "-------------------------\n",
      "Accuracy is 98.4375\n",
      "Node stashed 10\n",
      "-------------------------\n",
      "Epoch [3/5], Step[500/938], Loss: 0.0395\n",
      "-------------------------\n",
      "Accuracy is 100.0\n",
      "Node stashed 116\n",
      "-------------------------\n",
      "Accuracy is 98.4375\n",
      "Node stashed 3\n",
      "-------------------------\n",
      "Accuracy is 100.0\n",
      "Node stashed 44\n",
      "-------------------------\n",
      "Epoch [4/5], Step[500/938], Loss: 0.0775\n",
      "-------------------------\n",
      "Accuracy is 98.4375\n",
      "Node stashed 74\n",
      "-------------------------\n",
      "Accuracy is 100.0\n",
      "Node stashed 128\n",
      "-------------------------\n",
      "Accuracy is 100.0\n",
      "Node stashed 61\n",
      "-------------------------\n",
      "Epoch [5/5], Step[500/938], Loss: 0.0366\n",
      "-------------------------\n",
      "Accuracy is 100.0\n",
      "Node stashed 57\n",
      "-------------------------\n",
      "Accuracy is 100.0\n",
      "Node stashed 1\n",
      "-------------------------\n"
     ]
    }
   ],
   "source": [
    "# Start training\n",
    "n_total_steps = len(train_loader)\n",
    "j=0\n",
    "for epoch_iter in range(epochs):\n",
    "    for i,(data, label) in enumerate(train_loader):\n",
    "        x = data.reshape(-1,28*28).to(device)\n",
    "        y = label.to(device)\n",
    "        optimizer.zero_grad()\n",
    "        pred = model(x)\n",
    "        loss = criteration(pred,y)\n",
    "        loss.backward()\n",
    "        optimizer.step()\n",
    "        if (i+1) % 500 == 0:\n",
    "             print (f'Epoch [{epoch_iter+1}/{epochs}], Step[{i+1}/{n_total_steps}], Loss: {loss.item():.4f}')\n",
    "             print(\"-------------------------\")\n",
    "        \n",
    "        if (i+1) % 300 == 0:\n",
    "            print(\"Accuracy is\", accuracy())\n",
    "            for params in model.input_layer[stashed[j]].parameters():\n",
    "                params.requires_grad = False\n",
    "            print(\"Node stashed\", stashed[j])\n",
    "            print(\"-------------------------\")\n",
    "            j+=1"
   ]
  },
  {
   "cell_type": "code",
   "execution_count": 10,
   "metadata": {},
   "outputs": [
    {
     "data": {
      "text/plain": [
       "98.4375"
      ]
     },
     "execution_count": 10,
     "metadata": {},
     "output_type": "execute_result"
    }
   ],
   "source": [
    "accuracy()"
   ]
  },
  {
   "cell_type": "code",
   "execution_count": 11,
   "metadata": {},
   "outputs": [],
   "source": [
    "# Assertion to see if our nodes have really been stashed even after the training is over\n",
    "univ = [i for i in range(num_hidden_layer)]\n",
    "not_stashed = [i for i in univ if i not in stashed]\n",
    "\n",
    "for i in stashed:\n",
    "    for j in model.input_layer[i].parameters():\n",
    "        assert j.requires_grad == False\n",
    "\n",
    "for i in not_stashed:\n",
    "    for j in model.input_layer[i].parameters():\n",
    "        assert j.requires_grad == True\n"
   ]
  },
  {
   "cell_type": "code",
   "execution_count": 12,
   "metadata": {},
   "outputs": [],
   "source": [
    "# Creating computational graph to see, whether all the neurons are contributing or not\n",
    "# batch = next(iter(train_loader))\n",
    "# yhat = model(batch[0].reshape(-1,28*28).to(device)) # Give dummy batch to forward().\n",
    "\n",
    "# from torchviz import make_dot\n",
    "\n",
    "#make_dot(yhat, params=dict(list(model.named_parameters()))).render(\"software_stash_graph\", format=\"png\")"
   ]
  }
 ],
 "metadata": {
  "kernelspec": {
   "display_name": "base",
   "language": "python",
   "name": "python3"
  },
  "language_info": {
   "codemirror_mode": {
    "name": "ipython",
    "version": 3
   },
   "file_extension": ".py",
   "mimetype": "text/x-python",
   "name": "python",
   "nbconvert_exporter": "python",
   "pygments_lexer": "ipython3",
   "version": "3.9.13"
  },
  "orig_nbformat": 4
 },
 "nbformat": 4,
 "nbformat_minor": 2
}
