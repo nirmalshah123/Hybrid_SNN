{
 "cells": [
  {
   "attachments": {},
   "cell_type": "markdown",
   "metadata": {},
   "source": [
    "Stashing the SNN, using rate encoding"
   ]
  },
  {
   "cell_type": "code",
   "execution_count": 35,
   "metadata": {},
   "outputs": [],
   "source": [
    "import snntorch as snn\n",
    "from snntorch import spikeplot as splt\n",
    "from snntorch import spikegen\n",
    "\n",
    "import torch\n",
    "import torch.nn as nn\n",
    "from torch.utils.data import DataLoader\n",
    "from torchvision import datasets, transforms\n",
    "\n",
    "import matplotlib.pyplot as plt\n",
    "import numpy as np\n",
    "import itertools\n",
    "import copy\n",
    "from scipy.stats import skew"
   ]
  },
  {
   "cell_type": "code",
   "execution_count": 36,
   "metadata": {},
   "outputs": [],
   "source": [
    "# Hyperparameters\n",
    "batch_size = 128\n",
    "epochs =5\n",
    "beta = 0.95\n",
    "# The beta defined here = (1 - delta(t)/Tau)\n",
    "# Here delta(t) is the clk period\n",
    "# Tau = Time constant = RC\n",
    "# This is the approximation of beta = exp(-delta(t)/Tau)\n",
    "num_steps = 25"
   ]
  },
  {
   "cell_type": "code",
   "execution_count": 37,
   "metadata": {},
   "outputs": [
    {
     "data": {
      "text/plain": [
       "device(type='cuda')"
      ]
     },
     "execution_count": 37,
     "metadata": {},
     "output_type": "execute_result"
    }
   ],
   "source": [
    "# Perform learning over cuda\n",
    "device = torch.device(\"cuda\") if torch.cuda.is_available() else torch.device(\"cpu\")\n",
    "device"
   ]
  },
  {
   "cell_type": "code",
   "execution_count": 38,
   "metadata": {},
   "outputs": [],
   "source": [
    "transform = transforms.Compose([\n",
    "            transforms.Resize((28, 28)),\n",
    "            transforms.Grayscale(),\n",
    "            transforms.ToTensor(),\n",
    "            transforms.Normalize((0,), (1,))])\n",
    "\n",
    "mnist_train = datasets.MNIST(\"/home/neel/Sem_8/RnD/RnD_rough/data\", train=True, download=True, transform=transform)\n",
    "mnist_test = datasets.MNIST(\"/home/neel/Sem_8/RnD/RnD_rough/data\", train=False, download=True, transform=transform)"
   ]
  },
  {
   "cell_type": "code",
   "execution_count": 39,
   "metadata": {},
   "outputs": [],
   "source": [
    "# Loading the training and test data\n",
    "train_loader = DataLoader(mnist_train, batch_size=batch_size, shuffle=True, drop_last=True)\n",
    "test_loader = DataLoader(mnist_test, batch_size=batch_size, shuffle=True, drop_last=True)"
   ]
  },
  {
   "cell_type": "code",
   "execution_count": 40,
   "metadata": {},
   "outputs": [
    {
     "name": "stdout",
     "output_type": "stream",
     "text": [
      "torch.Size([25, 128, 784])\n"
     ]
    }
   ],
   "source": [
    "data = iter(train_loader)\n",
    "data_it, targets_it = next(data)\n",
    "\n",
    "# Spiking Data\n",
    "data_it = data_it.view(batch_size, -1)\n",
    "spike_data = spikegen.rate(data_it, num_steps=num_steps)\n",
    "print(spike_data.shape)\n",
    "#spike_data = (spike_data.view(num_steps,batch_size, -1))"
   ]
  },
  {
   "cell_type": "code",
   "execution_count": 41,
   "metadata": {},
   "outputs": [
    {
     "data": {
      "text/plain": [
       "torch.Size([25, 128, 784])"
      ]
     },
     "execution_count": 41,
     "metadata": {},
     "output_type": "execute_result"
    }
   ],
   "source": [
    "spike_data.shape"
   ]
  },
  {
   "cell_type": "code",
   "execution_count": 42,
   "metadata": {},
   "outputs": [
    {
     "data": {
      "text/plain": [
       "True"
      ]
     },
     "execution_count": 42,
     "metadata": {},
     "output_type": "execute_result"
    }
   ],
   "source": [
    "# Here we are creating a single hidden layer NN, with 150 nodes\n",
    "class Net(nn.Module):\n",
    "    def __init__(self, num_hidden_layer = 150):\n",
    "        super().__init__()\n",
    "\n",
    "        # Initialize layers\n",
    "        self.linear_1 = nn.Linear(in_features=784,out_features=num_hidden_layer)\n",
    "        self.lif1 = snn.Leaky(beta=beta)\n",
    "        self.linear_2 = nn.Linear(in_features=num_hidden_layer, out_features=10, bias=False)\n",
    "        self.lif2 = snn.Leaky(beta=beta)\n",
    "\n",
    "    def forward(self, x):\n",
    "\n",
    "        # Initialize hidden states at t=0\n",
    "        mem1 = self.lif1.init_leaky()\n",
    "        mem2 = self.lif2.init_leaky()\n",
    "\n",
    "        # Record the final layer\n",
    "        spk2_rec = []\n",
    "        mem2_rec = []\n",
    "        spk1_rec = []\n",
    "\n",
    "        x = spikegen.rate(x, num_steps=num_steps)\n",
    "\n",
    "        for step in range(num_steps):\n",
    "            cur1 = self.linear_1(x[step])\n",
    "            spk1, mem1 = self.lif1(cur1, mem1)\n",
    "            spk1_rec.append(spk1)\n",
    "            cur2 = self.linear_2(spk1)\n",
    "            spk2, mem2 = self.lif2(cur2, mem2)\n",
    "            spk2_rec.append(spk2)\n",
    "            mem2_rec.append(mem2)\n",
    "\n",
    "        return torch.stack(spk1_rec, dim=0) , torch.stack(spk2_rec, dim=0), torch.stack(mem2_rec, dim=0)\n",
    "\n",
    "# Load the network onto CUDA if available\n",
    "num_hidden_layer = 150\n",
    "model = Net(num_hidden_layer=num_hidden_layer).to(device)\n",
    "next(model.parameters()).is_cuda\n"
   ]
  },
  {
   "cell_type": "code",
   "execution_count": 43,
   "metadata": {},
   "outputs": [],
   "source": [
    "loss = nn.CrossEntropyLoss()\n",
    "optimizer = torch.optim.Adam(model.parameters(), lr=0.001)"
   ]
  },
  {
   "cell_type": "code",
   "execution_count": 44,
   "metadata": {},
   "outputs": [],
   "source": [
    "def accuracy():\n",
    "    with torch.no_grad():\n",
    "        n_correct = 0\n",
    "        n_samples = 0\n",
    "        for images, label in test_loader:\n",
    "            images = images.reshape(-1, 28*28).to(device)\n",
    "            label = label.to(device)\n",
    "\n",
    "            # Test set forward pass\n",
    "            _, test_spk, test_mem = model(images.view(batch_size, -1))\n",
    "            n_samples += label.size(0)\n",
    "            _, idx = test_spk.sum(dim=0).max(1)\n",
    "            n_correct+= (label == idx).sum().item()\n",
    "            return(n_correct/n_samples * 100)"
   ]
  },
  {
   "cell_type": "code",
   "execution_count": 45,
   "metadata": {},
   "outputs": [
    {
     "name": "stdout",
     "output_type": "stream",
     "text": [
      "Epoch [1/5], Step[50/468], Loss: 25.3386\n",
      "-------------------------\n",
      "Epoch [1/5], Step[100/468], Loss: 19.2863\n",
      "-------------------------\n",
      "Epoch [1/5], Step[150/468], Loss: 20.3266\n",
      "-------------------------\n",
      "Epoch [1/5], Step[200/468], Loss: 20.6381\n",
      "-------------------------\n",
      "Epoch [1/5], Step[250/468], Loss: 18.7163\n",
      "-------------------------\n",
      "Epoch [1/5], Step[300/468], Loss: 18.0289\n",
      "-------------------------\n",
      "Accuracy before stashing 79.6875\n",
      "Node stashed [0, 1, 2, 3, 4, 6, 7, 9, 10, 11, 13, 14, 16, 19, 21, 23, 26, 30, 31, 32, 33, 35, 39, 41, 43, 45, 47, 48, 49, 51, 52, 53, 54, 55, 56, 58, 59, 60, 61, 64, 65, 66, 67, 69, 71, 73, 74, 76, 79, 80, 82, 84, 85, 86, 87, 88, 89, 91, 93, 94, 95, 98, 99, 100, 101, 102, 103, 104, 105, 106, 107, 108, 113, 114, 115, 116, 118, 119, 122, 125, 126, 127, 129, 133, 134, 137, 141, 142, 143, 144, 146, 147, 148]\n",
      "-------------------------\n",
      "Accuracy after_stashing is 29.6875\n",
      "Epoch [1/5], Step[350/468], Loss: 28.8797\n",
      "-------------------------\n",
      "Epoch [1/5], Step[400/468], Loss: 28.2507\n",
      "-------------------------\n",
      "Epoch [1/5], Step[450/468], Loss: 26.0373\n",
      "-------------------------\n",
      "Epoch [2/5], Step[50/468], Loss: 26.0869\n",
      "-------------------------\n",
      "Epoch [2/5], Step[100/468], Loss: 25.7412\n",
      "-------------------------\n",
      "Epoch [2/5], Step[150/468], Loss: 24.7616\n",
      "-------------------------\n",
      "Epoch [2/5], Step[200/468], Loss: 20.4950\n",
      "-------------------------\n",
      "Epoch [2/5], Step[250/468], Loss: 21.1407\n",
      "-------------------------\n",
      "Epoch [2/5], Step[300/468], Loss: 20.7295\n",
      "-------------------------\n",
      "Accuracy before stashing 75.0\n",
      "Node stashed [15, 17, 20, 22, 25, 28, 34, 38, 42, 46, 50, 57, 62, 72, 77, 81, 83, 90, 97, 110, 111, 117, 120, 121, 123, 124, 131, 135, 136, 149]\n",
      "-------------------------\n",
      "Accuracy after_stashing is 39.0625\n",
      "Epoch [2/5], Step[350/468], Loss: 35.1644\n",
      "-------------------------\n",
      "Epoch [2/5], Step[400/468], Loss: 31.7350\n",
      "-------------------------\n",
      "Epoch [2/5], Step[450/468], Loss: 33.3740\n",
      "-------------------------\n",
      "Epoch [3/5], Step[50/468], Loss: 26.7860\n",
      "-------------------------\n",
      "Epoch [3/5], Step[100/468], Loss: 27.5136\n",
      "-------------------------\n",
      "Epoch [3/5], Step[150/468], Loss: 30.1536\n",
      "-------------------------\n",
      "Epoch [3/5], Step[200/468], Loss: 27.7868\n",
      "-------------------------\n",
      "Epoch [3/5], Step[250/468], Loss: 31.2042\n",
      "-------------------------\n",
      "Epoch [3/5], Step[300/468], Loss: 25.9497\n",
      "-------------------------\n",
      "Accuracy before stashing 59.375\n",
      "Node stashed [24, 27, 44, 70, 96, 128, 132]\n",
      "-------------------------\n",
      "Accuracy after_stashing is 36.71875\n",
      "Epoch [3/5], Step[350/468], Loss: 40.1439\n",
      "-------------------------\n",
      "Epoch [3/5], Step[400/468], Loss: 34.1500\n",
      "-------------------------\n",
      "Epoch [3/5], Step[450/468], Loss: 36.0061\n",
      "-------------------------\n",
      "Epoch [4/5], Step[50/468], Loss: 36.0900\n",
      "-------------------------\n",
      "Epoch [4/5], Step[100/468], Loss: 31.0761\n",
      "-------------------------\n",
      "Epoch [4/5], Step[150/468], Loss: 33.0154\n",
      "-------------------------\n",
      "Epoch [4/5], Step[200/468], Loss: 32.3982\n",
      "-------------------------\n",
      "Epoch [4/5], Step[250/468], Loss: 31.1194\n",
      "-------------------------\n",
      "Epoch [4/5], Step[300/468], Loss: 34.0449\n",
      "-------------------------\n",
      "Accuracy before stashing 35.15625\n",
      "Node stashed [68, 92, 130, 140]\n",
      "-------------------------\n",
      "Accuracy after_stashing is 33.59375\n",
      "Epoch [4/5], Step[350/468], Loss: 45.7310\n",
      "-------------------------\n",
      "Epoch [4/5], Step[400/468], Loss: 40.7775\n",
      "-------------------------\n",
      "Epoch [4/5], Step[450/468], Loss: 43.4373\n",
      "-------------------------\n",
      "Joined all the stashed nodes\n",
      "Assertions Passed\n",
      "Epoch [5/5], Step[50/468], Loss: 8.8533\n",
      "-------------------------\n",
      "Epoch [5/5], Step[100/468], Loss: 18.6536\n",
      "-------------------------\n",
      "Epoch [5/5], Step[150/468], Loss: 9.7243\n",
      "-------------------------\n",
      "Epoch [5/5], Step[200/468], Loss: 12.3986\n",
      "-------------------------\n",
      "Epoch [5/5], Step[250/468], Loss: 9.0996\n",
      "-------------------------\n",
      "Epoch [5/5], Step[300/468], Loss: 11.6568\n",
      "-------------------------\n",
      "Epoch [5/5], Step[350/468], Loss: 6.8968\n",
      "-------------------------\n",
      "Epoch [5/5], Step[400/468], Loss: 9.9193\n",
      "-------------------------\n",
      "Epoch [5/5], Step[450/468], Loss: 13.7406\n",
      "-------------------------\n",
      "Total nodes stashed 134\n",
      "CPU times: user 1min 51s, sys: 52 ms, total: 1min 51s\n",
      "Wall time: 1min 51s\n"
     ]
    }
   ],
   "source": [
    "%%time\n",
    "stashed_global = []\n",
    "stashed_lin1_wt_dict = {}\n",
    "stashed_lin1_bias_dict = {}\n",
    "stashed_lin2_wt_dict = {}\n",
    "threshold = 24\n",
    "accuracy_plot = []\n",
    "univ = [i for i in range(num_hidden_layer)]\n",
    "#spk1_freq_temp = torch.empty((batch_size,num_hidden_layer)).to(device)\n",
    "n_total_steps = len(train_loader)\n",
    "for epoch_iter in range(epochs):\n",
    "    spk1_freq_temp = torch.empty((batch_size,num_hidden_layer)).to(device)\n",
    "\n",
    "    if(epoch_iter == (epochs-1)):\n",
    "        print(\"Joined all the stashed nodes\")\n",
    "        for i in stashed_global:\n",
    "            assert model.linear_2.weight[:,i].any() == False\n",
    "            assert model.linear_1.weight[i,:].any() == False\n",
    "            assert model.linear_1.bias[i] == 0\n",
    "        print(\"Assertions Passed\")\n",
    "        with torch.no_grad():\n",
    "            for key in stashed_lin1_wt_dict:\n",
    "                model.linear_1.weight[key,:] = stashed_lin1_wt_dict[key]\n",
    "                model.linear_1.bias[key] = stashed_lin1_bias_dict[key]\n",
    "                model.linear_2.weight[:,key] = stashed_lin2_wt_dict[key]\n",
    "   \n",
    "\n",
    "    for i,(data, target) in enumerate(train_loader):\n",
    "        x = data.to(device)\n",
    "        y = target.to(device)\n",
    "        spk1_rec, spk_rec, mem_rec = model(x.view(batch_size, -1))\n",
    "        spk1_rec = torch.sum(spk1_rec, 0)\n",
    "        spk1_freq_temp = torch.cat((spk1_freq_temp, spk1_rec))\n",
    "        loss_val = torch.zeros((1),device=device)\n",
    "        for step in range(num_steps):\n",
    "            loss_val += loss(mem_rec[step], y)\n",
    "        optimizer.zero_grad()\n",
    "        loss_val.backward()\n",
    "        optimizer.step()\n",
    "\n",
    "        if((i+1) % 30 == 0):\n",
    "            accuracy_plot.append(accuracy())\n",
    "\n",
    "        if (i+1) % 50 == 0:\n",
    "             print (f'Epoch [{epoch_iter+1}/{epochs}], Step[{i+1}/{(n_total_steps)}], Loss: {loss_val.item():.4f}')\n",
    "             print(\"-------------------------\")\n",
    "        \n",
    "        if((epoch_iter<(epochs-1)) and (i+1) % 300 == 0):\n",
    "            stashed = []\n",
    "            print(\"Accuracy before stashing\", accuracy())\n",
    "            for j in univ:\n",
    "                if(spk1_freq_temp[-1,j]>threshold):\n",
    "                    stashed.append(j)\n",
    "                    stashed_global.append(j)\n",
    "            for k in stashed:\n",
    "                stashed_lin1_wt_dict[k] =model.linear_1.weight[k,:].clone().detach()\n",
    "                stashed_lin1_bias_dict[k] = model.linear_1.bias[k].clone().detach()\n",
    "                stashed_lin2_wt_dict[k] = model.linear_2.weight[:,k].clone().detach()\n",
    "            \n",
    "            print(\"Node stashed\", stashed)\n",
    "            print(\"-------------------------\")\n",
    "            univ = [i for i in univ if i not in stashed]\n",
    "        \n",
    "        if(epoch_iter<(epochs-1)):\n",
    "            for k in stashed_global:\n",
    "                with torch.no_grad():\n",
    "                    model.linear_1.weight[k,:] = 0\n",
    "                    model.linear_1.bias[k] = 0\n",
    "                    model.linear_2.weight[:,k] = 0\n",
    "            \n",
    "            if((i+1) % 300 == 0):\n",
    "                print(\"Accuracy after_stashing is\", accuracy())\n",
    "\n",
    "print(\"Total nodes stashed\", len(stashed_global))\n",
    "        "
   ]
  },
  {
   "cell_type": "code",
   "execution_count": 46,
   "metadata": {},
   "outputs": [
    {
     "name": "stdout",
     "output_type": "stream",
     "text": [
      "95.3125\n"
     ]
    }
   ],
   "source": [
    "print(accuracy())\n",
    "accuracy_plot.append(accuracy())\n"
   ]
  },
  {
   "cell_type": "code",
   "execution_count": 47,
   "metadata": {},
   "outputs": [
    {
     "data": {
      "text/plain": [
       "[<matplotlib.lines.Line2D at 0x7f12d03d0b20>]"
      ]
     },
     "execution_count": 47,
     "metadata": {},
     "output_type": "execute_result"
    },
    {
     "data": {
      "image/png": "[encoded data removed]",
      "text/plain": [
       "<Figure size 640x480 with 1 Axes>"
      ]
     },
     "metadata": {},
     "output_type": "display_data"
    }
   ],
   "source": [
    "plt.plot(accuracy_plot)"
   ]
  },
  {
   "cell_type": "code",
   "execution_count": 48,
   "metadata": {},
   "outputs": [],
   "source": [
    "spk1_freq = spk1_freq_temp[batch_size:,:]\n",
    "spk1_freq = spk1_freq.cpu().detach().numpy()"
   ]
  },
  {
   "cell_type": "code",
   "execution_count": 49,
   "metadata": {},
   "outputs": [
    {
     "name": "stderr",
     "output_type": "stream",
     "text": [
      "/tmp/ipykernel_8922/612024888.py:4: RuntimeWarning: Precision loss occurred in moment calculation due to catastrophic cancellation. This occurs when the data are nearly identical. Results may be unreliable.\n",
      "  skew_all_node = skew(spk1_freq,axis=0)\n"
     ]
    },
    {
     "data": {
      "text/plain": [
       "(array([77.,  2.,  0.,  1.,  2.,  1.,  4.,  3.,  3., 57.]),\n",
       " array([ 0. ,  2.5,  5. ,  7.5, 10. , 12.5, 15. , 17.5, 20. , 22.5, 25. ],\n",
       "       dtype=float32),\n",
       " <BarContainer object of 10 artists>)"
      ]
     },
     "execution_count": 49,
     "metadata": {},
     "output_type": "execute_result"
    },
    {
     "data": {
      "image/png": "[encoded data removed]",
      "text/plain": [
       "<Figure size 640x480 with 1 Axes>"
      ]
     },
     "metadata": {},
     "output_type": "display_data"
    }
   ],
   "source": [
    "# Calculating the statistics of our spikes\n",
    "mean_all_node = np.mean(spk1_freq,axis=0)\n",
    "std_dev_all_node = np.std(spk1_freq,axis=0)\n",
    "skew_all_node = skew(spk1_freq,axis=0)\n",
    "successive_dif_all_node = np.diff(spk1_freq, axis=0)\n",
    "plt.hist(spk1_freq[-1,:])"
   ]
  },
  {
   "cell_type": "code",
   "execution_count": 50,
   "metadata": {},
   "outputs": [],
   "source": [
    "torch.save(model, 'rate_encoding_SNN_stashing_threshold_24.pt')"
   ]
  },
  {
   "cell_type": "code",
   "execution_count": 51,
   "metadata": {},
   "outputs": [],
   "source": [
    "# #Creating computational graph to see, whether all the neurons are contributing or not\n",
    "# batch = next(iter(train_loader))\n",
    "# yhat = net(batch[0].reshape(-1,28*28).to(device)) # Give dummy batch to forward().\n",
    "\n",
    "# from torchviz import make_dot\n",
    "\n",
    "# make_dot(yhat, params=dict(list(net.named_parameters()))).render(\"trial_1\", format=\"png\")"
   ]
  }
 ],
 "metadata": {
  "kernelspec": {
   "display_name": "base",
   "language": "python",
   "name": "python3"
  },
  "language_info": {
   "codemirror_mode": {
    "name": "ipython",
    "version": 3
   },
   "file_extension": ".py",
   "mimetype": "text/x-python",
   "name": "python",
   "nbconvert_exporter": "python",
   "pygments_lexer": "ipython3",
   "version": "3.9.13"
  },
  "orig_nbformat": 4
 },
 "nbformat": 4,
 "nbformat_minor": 2
}
