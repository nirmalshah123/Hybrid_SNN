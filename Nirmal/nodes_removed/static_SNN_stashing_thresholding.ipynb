{
 "cells": [
  {
   "attachments": {},
   "cell_type": "markdown",
   "metadata": {},
   "source": [
    "Stashing the SNN, after calculating the spikes from trial_2"
   ]
  },
  {
   "cell_type": "code",
   "execution_count": 12,
   "metadata": {},
   "outputs": [],
   "source": [
    "import snntorch as snn\n",
    "from snntorch import spikeplot as splt\n",
    "from snntorch import spikegen\n",
    "\n",
    "import torch\n",
    "import torch.nn as nn\n",
    "from torch.utils.data import DataLoader\n",
    "from torchvision import datasets, transforms\n",
    "\n",
    "import matplotlib.pyplot as plt\n",
    "import numpy as np\n",
    "import itertools\n",
    "import copy\n",
    "from scipy.stats import skew"
   ]
  },
  {
   "cell_type": "code",
   "execution_count": 13,
   "metadata": {},
   "outputs": [],
   "source": [
    "# Hyperparameters\n",
    "batch_size = 128\n",
    "epochs =3\n",
    "beta = 0.95\n",
    "# The beta defined here = (1 - delta(t)/Tau)\n",
    "# Here delta(t) is the clk period\n",
    "# Tau = Time constant = RC\n",
    "# This is the approximation of beta = exp(-delta(t)/Tau)\n",
    "num_steps = 25"
   ]
  },
  {
   "cell_type": "code",
   "execution_count": 14,
   "metadata": {},
   "outputs": [
    {
     "data": {
      "text/plain": [
       "device(type='cuda')"
      ]
     },
     "execution_count": 14,
     "metadata": {},
     "output_type": "execute_result"
    }
   ],
   "source": [
    "# Perform learning over cuda\n",
    "device = torch.device(\"cuda\") if torch.cuda.is_available() else torch.device(\"cpu\")\n",
    "device"
   ]
  },
  {
   "cell_type": "code",
   "execution_count": 15,
   "metadata": {},
   "outputs": [],
   "source": [
    "transform = transforms.Compose([\n",
    "            transforms.Resize((28, 28)),\n",
    "            transforms.Grayscale(),\n",
    "            transforms.ToTensor(),\n",
    "            transforms.Normalize((0,), (1,))])\n",
    "\n",
    "mnist_train = datasets.MNIST(\"./../data\", train=True, download=True, transform=transform)\n",
    "mnist_test = datasets.MNIST(\"./../data\", train=False, download=True, transform=transform)"
   ]
  },
  {
   "cell_type": "code",
   "execution_count": 16,
   "metadata": {},
   "outputs": [],
   "source": [
    "# Loading the training and test data\n",
    "train_loader = DataLoader(mnist_train, batch_size=batch_size, shuffle=True, drop_last=True)\n",
    "test_loader = DataLoader(mnist_test, batch_size=batch_size, shuffle=True, drop_last=True)"
   ]
  },
  {
   "cell_type": "code",
   "execution_count": 17,
   "metadata": {},
   "outputs": [
    {
     "data": {
      "text/plain": [
       "True"
      ]
     },
     "execution_count": 17,
     "metadata": {},
     "output_type": "execute_result"
    }
   ],
   "source": [
    "# Here we are creating a single hidden layer NN, with 150 nodes\n",
    "class Net(nn.Module):\n",
    "    def __init__(self, num_hidden_layer = 150):\n",
    "        super().__init__()\n",
    "\n",
    "        # Initialize layers\n",
    "        self.linear_1 = nn.Linear(in_features=784,out_features=num_hidden_layer, bias=False)\n",
    "        self.lif1 = snn.Leaky(beta=beta,reset_mechanism= \"zero\")\n",
    "        self.linear_2 = nn.Linear(in_features=num_hidden_layer, out_features=10, bias=False)\n",
    "        self.lif2 = snn.Leaky(beta=beta)\n",
    "\n",
    "    def forward(self, x):\n",
    "\n",
    "        # Initialize hidden states at t=0\n",
    "        mem1 = self.lif1.init_leaky()\n",
    "        mem2 = self.lif2.init_leaky()\n",
    "\n",
    "        # Record the final layer\n",
    "        spk2_rec = []\n",
    "        mem2_rec = []\n",
    "        spk1_rec = []\n",
    "\n",
    "        for step in range(num_steps):\n",
    "            cur1 = self.linear_1(x)\n",
    "            spk1, mem1 = self.lif1(cur1, mem1)\n",
    "            spk1_rec.append(spk1)\n",
    "            cur2 = self.linear_2(spk1)\n",
    "            spk2, mem2 = self.lif2(cur2, mem2)\n",
    "            spk2_rec.append(spk2)\n",
    "            mem2_rec.append(mem2)\n",
    "\n",
    "        return torch.stack(spk1_rec, dim=0) , torch.stack(spk2_rec, dim=0), torch.stack(mem2_rec, dim=0)\n",
    "\n",
    "# Load the network onto CUDA if available\n",
    "num_hidden_layer = 150\n",
    "model = Net(num_hidden_layer=num_hidden_layer).to(device)\n",
    "next(model.parameters()).is_cuda\n"
   ]
  },
  {
   "cell_type": "code",
   "execution_count": 18,
   "metadata": {},
   "outputs": [],
   "source": [
    "loss = nn.CrossEntropyLoss()\n",
    "optimizer = torch.optim.Adam(model.parameters(), lr=0.001)"
   ]
  },
  {
   "cell_type": "code",
   "execution_count": 19,
   "metadata": {},
   "outputs": [],
   "source": [
    "def accuracy():\n",
    "    with torch.no_grad():\n",
    "        n_correct = 0\n",
    "        n_samples = 0\n",
    "        for images, label in test_loader:\n",
    "            images = images.reshape(-1, 28*28).to(device)\n",
    "            label = label.to(device)\n",
    "\n",
    "            # Test set forward pass\n",
    "            _, test_spk, test_mem = model(images.view(batch_size, -1))\n",
    "            n_samples += label.size(0)\n",
    "            _, idx = test_spk.sum(dim=0).max(1)\n",
    "            n_correct+= (label == idx).sum().item()\n",
    "            return(n_correct/n_samples * 100)"
   ]
  },
  {
   "cell_type": "code",
   "execution_count": 20,
   "metadata": {},
   "outputs": [
    {
     "name": "stdout",
     "output_type": "stream",
     "text": [
      "Epoch [1/3], Step[50/468], Loss: 22.5242\n",
      "-------------------------\n",
      "Epoch [1/3], Step[100/468], Loss: 11.7398\n",
      "-------------------------\n",
      "Epoch [1/3], Step[150/468], Loss: 18.8661\n",
      "-------------------------\n",
      "Epoch [1/3], Step[200/468], Loss: 13.5592\n",
      "-------------------------\n",
      "Epoch [1/3], Step[250/468], Loss: 10.5998\n",
      "-------------------------\n",
      "Epoch [1/3], Step[300/468], Loss: 9.2426\n",
      "-------------------------\n",
      "Accuracy before stashing 90.625\n",
      "Node stashed [0, 11, 15, 18, 20, 21, 22, 24, 27, 30, 34, 37, 38, 40, 42, 44, 45, 48, 51, 52, 56, 59, 61, 62, 66, 68, 70, 73, 84, 87, 89, 92, 93, 97, 99, 101, 102, 103, 104, 107, 111, 112, 117, 118, 123, 124, 125, 128, 130, 132, 135, 137, 141, 142, 149]\n",
      "-------------------------\n",
      "Accuracy after_stashing is 51.5625\n",
      "Epoch [1/3], Step[350/468], Loss: 14.5737\n",
      "-------------------------\n",
      "Epoch [1/3], Step[400/468], Loss: 14.4775\n",
      "-------------------------\n",
      "Epoch [1/3], Step[450/468], Loss: 19.0032\n",
      "-------------------------\n",
      "Epoch [2/3], Step[50/468], Loss: 15.0823\n",
      "-------------------------\n",
      "Epoch [2/3], Step[100/468], Loss: 11.0882\n",
      "-------------------------\n",
      "Epoch [2/3], Step[150/468], Loss: 12.8472\n",
      "-------------------------\n",
      "Epoch [2/3], Step[200/468], Loss: 14.6492\n",
      "-------------------------\n",
      "Epoch [2/3], Step[250/468], Loss: 14.6654\n",
      "-------------------------\n",
      "Epoch [2/3], Step[300/468], Loss: 11.3168\n",
      "-------------------------\n",
      "Accuracy before stashing 91.40625\n",
      "Node stashed [1, 4, 7, 9, 10, 13, 14, 16, 23, 25, 29, 31, 32, 33, 35, 36, 41, 43, 46, 49, 53, 54, 55, 57, 58, 60, 63, 64, 67, 69, 72, 74, 75, 76, 77, 78, 82, 83, 86, 88, 91, 94, 95, 100, 105, 119, 120, 122, 126, 129, 131, 136, 138, 139, 144, 147, 148]\n",
      "-------------------------\n",
      "Accuracy after_stashing is 10.9375\n",
      "Epoch [2/3], Step[350/468], Loss: 32.4444\n",
      "-------------------------\n",
      "Epoch [2/3], Step[400/468], Loss: 30.4913\n",
      "-------------------------\n",
      "Epoch [2/3], Step[450/468], Loss: 33.7272\n",
      "-------------------------\n",
      "Joined all the stashed nodes\n",
      "Assertions Passed\n",
      "Epoch [3/3], Step[50/468], Loss: 11.2842\n",
      "-------------------------\n",
      "Epoch [3/3], Step[100/468], Loss: 10.8575\n",
      "-------------------------\n",
      "Epoch [3/3], Step[150/468], Loss: 12.6331\n",
      "-------------------------\n",
      "Epoch [3/3], Step[200/468], Loss: 6.6120\n",
      "-------------------------\n",
      "Epoch [3/3], Step[250/468], Loss: 10.0444\n",
      "-------------------------\n",
      "Epoch [3/3], Step[300/468], Loss: 6.6931\n",
      "-------------------------\n",
      "Epoch [3/3], Step[350/468], Loss: 13.2265\n",
      "-------------------------\n",
      "Epoch [3/3], Step[400/468], Loss: 17.5763\n",
      "-------------------------\n",
      "Epoch [3/3], Step[450/468], Loss: 6.2653\n",
      "-------------------------\n",
      "Total nodes stashed 112\n",
      "CPU times: user 1min 16s, sys: 24.5 ms, total: 1min 16s\n",
      "Wall time: 1min 16s\n"
     ]
    }
   ],
   "source": [
    "%%time\n",
    "stashed_global = []\n",
    "stashed_lin1_wt_dict = {}\n",
    "stashed_lin1_bias_dict = {}\n",
    "stashed_lin2_wt_dict = {}\n",
    "threshold = 11\n",
    "all_neurons_joined = 0\n",
    "accuracy_plot = []\n",
    "univ = [i for i in range(num_hidden_layer)]\n",
    "#spk1_freq_temp = torch.empty((batch_size,num_hidden_layer)).to(device)\n",
    "n_total_steps = len(train_loader)\n",
    "for epoch_iter in range(epochs):\n",
    "    spk1_freq_temp = torch.empty((batch_size,num_hidden_layer)).to(device)\n",
    "\n",
    "    if(epoch_iter == (epochs-1)):\n",
    "        print(\"Joined all the stashed nodes\")\n",
    "        for i in stashed_global:\n",
    "            assert model.linear_2.weight[:,i].any() == False\n",
    "            assert model.linear_1.weight[i,:].any() == False\n",
    "            #assert model.linear_1.bias[i] == 0\n",
    "        print(\"Assertions Passed\")\n",
    "        with torch.no_grad():\n",
    "            for key in stashed_lin1_wt_dict:\n",
    "                model.linear_1.weight[key,:] = stashed_lin1_wt_dict[key]\n",
    "                #model.linear_1.bias[key] = stashed_lin1_bias_dict[key]\n",
    "                model.linear_2.weight[:,key] = stashed_lin2_wt_dict[key]\n",
    "   \n",
    "\n",
    "    for i,(data, target) in enumerate(train_loader):\n",
    "        x = data.to(device)\n",
    "        y = target.to(device)\n",
    "        spk1_rec, spk_rec, mem_rec = model(x.view(batch_size, -1))\n",
    "        spk1_rec = torch.sum(spk1_rec, 0)\n",
    "        spk1_freq_temp = torch.cat((spk1_freq_temp, spk1_rec))\n",
    "        loss_val = torch.zeros((1),device=device)\n",
    "        for step in range(num_steps):\n",
    "            loss_val += loss(mem_rec[step], y)\n",
    "        optimizer.zero_grad()\n",
    "        loss_val.backward()\n",
    "        optimizer.step()\n",
    "\n",
    "        if((i+1) % 30 == 0):\n",
    "            accuracy_plot.append(accuracy())\n",
    "            if(epoch_iter != (epochs-1)):\n",
    "                all_neurons_joined+=1\n",
    "\n",
    "        if (i+1) % 50 == 0:\n",
    "             print (f'Epoch [{epoch_iter+1}/{epochs}], Step[{i+1}/{(n_total_steps)}], Loss: {loss_val.item():.4f}')\n",
    "             print(\"-------------------------\")\n",
    "        \n",
    "        if((epoch_iter<(epochs-1)) and (i+1) % 300 == 0):\n",
    "            stashed = []\n",
    "            print(\"Accuracy before stashing\", accuracy())\n",
    "            for j in univ:\n",
    "                if(spk1_freq_temp[-1,j]>threshold):\n",
    "                    stashed.append(j)\n",
    "                    stashed_global.append(j)\n",
    "            for k in stashed:\n",
    "                stashed_lin1_wt_dict[k] =model.linear_1.weight[k,:].clone().detach()\n",
    "                #stashed_lin1_bias_dict[k] = model.linear_1.bias[k].clone().detach()\n",
    "                stashed_lin2_wt_dict[k] = model.linear_2.weight[:,k].clone().detach()\n",
    "            \n",
    "            print(\"Node stashed\", stashed)\n",
    "            print(\"-------------------------\")\n",
    "            univ = [i for i in univ if i not in stashed]\n",
    "        \n",
    "        if(epoch_iter<(epochs-1)):\n",
    "            for k in stashed_global:\n",
    "                with torch.no_grad():\n",
    "                    model.linear_1.weight[k,:] = 0\n",
    "                    #model.linear_1.bias[k] = 0\n",
    "                    model.linear_2.weight[:,k] = 0\n",
    "            \n",
    "            if((i+1) % 300 == 0):\n",
    "                print(\"Accuracy after_stashing is\", accuracy())\n",
    "\n",
    "print(\"Total nodes stashed\", len(stashed_global))\n",
    "        "
   ]
  },
  {
   "cell_type": "code",
   "execution_count": 21,
   "metadata": {},
   "outputs": [
    {
     "name": "stdout",
     "output_type": "stream",
     "text": [
      "92.1875\n"
     ]
    }
   ],
   "source": [
    "print(accuracy())\n",
    "accuracy_plot.append(accuracy())\n"
   ]
  },
  {
   "cell_type": "code",
   "execution_count": 22,
   "metadata": {},
   "outputs": [
    {
     "data": {
      "text/plain": [
       "<matplotlib.lines.Line2D at 0x7f9d5019e610>"
      ]
     },
     "execution_count": 22,
     "metadata": {},
     "output_type": "execute_result"
    },
    {
     "data": {
      "image/png": "[encoded data removed]",
      "text/plain": [
       "<Figure size 640x480 with 1 Axes>"
      ]
     },
     "metadata": {},
     "output_type": "display_data"
    }
   ],
   "source": [
    "plt.plot(accuracy_plot)\n",
    "plt.title(\"SNN with static stashing\")\n",
    "plt.xlabel(\"Mini batches iterations\")\n",
    "plt.ylabel(\"Accuracy\")\n",
    "plt.axvline(x=all_neurons_joined,color='r')"
   ]
  },
  {
   "cell_type": "code",
   "execution_count": 23,
   "metadata": {},
   "outputs": [],
   "source": [
    "spk1_freq = spk1_freq_temp[batch_size:,:]\n",
    "spk1_freq = spk1_freq.cpu().detach().numpy()"
   ]
  },
  {
   "cell_type": "code",
   "execution_count": 24,
   "metadata": {},
   "outputs": [
    {
     "data": {
      "text/plain": [
       "Text(0.5, 1.0, 'Number of neurons firing at the end')"
      ]
     },
     "execution_count": 24,
     "metadata": {},
     "output_type": "execute_result"
    },
    {
     "data": {
      "image/png": "[encoded data removed]",
      "text/plain": [
       "<Figure size 640x480 with 1 Axes>"
      ]
     },
     "metadata": {},
     "output_type": "display_data"
    }
   ],
   "source": [
    "# Calculating the statistics of our spikes\n",
    "mean_all_node = np.mean(spk1_freq,axis=0)\n",
    "std_dev_all_node = np.std(spk1_freq,axis=0)\n",
    "skew_all_node = skew(spk1_freq,axis=0)\n",
    "successive_dif_all_node = np.diff(spk1_freq, axis=0)\n",
    "plt.hist(spk1_freq[-1,:])\n",
    "plt.title(\"Number of neurons firing at the end\")"
   ]
  },
  {
   "cell_type": "code",
   "execution_count": 25,
   "metadata": {},
   "outputs": [],
   "source": [
    "torch.save(model, 'static_SNN_stashing_thresholding_24.pt')"
   ]
  },
  {
   "cell_type": "code",
   "execution_count": null,
   "metadata": {},
   "outputs": [],
   "source": [
    "# #Creating computational graph to see, whether all the neurons are contributing or not\n",
    "# batch = next(iter(train_loader))\n",
    "# yhat = net(batch[0].reshape(-1,28*28).to(device)) # Give dummy batch to forward().\n",
    "\n",
    "# from torchviz import make_dot\n",
    "\n",
    "# make_dot(yhat, params=dict(list(net.named_parameters()))).render(\"trial_1\", format=\"png\")"
   ]
  }
 ],
 "metadata": {
  "kernelspec": {
   "display_name": "base",
   "language": "python",
   "name": "python3"
  },
  "language_info": {
   "codemirror_mode": {
    "name": "ipython",
    "version": 3
   },
   "file_extension": ".py",
   "mimetype": "text/x-python",
   "name": "python",
   "nbconvert_exporter": "python",
   "pygments_lexer": "ipython3",
   "version": "3.9.12"
  },
  "orig_nbformat": 4
 },
 "nbformat": 4,
 "nbformat_minor": 2
}
