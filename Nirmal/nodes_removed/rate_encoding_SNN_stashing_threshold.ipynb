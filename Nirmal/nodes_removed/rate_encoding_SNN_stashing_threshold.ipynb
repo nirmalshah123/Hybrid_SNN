{
 "cells": [
  {
   "attachments": {},
   "cell_type": "markdown",
   "metadata": {},
   "source": [
    "Stashing the SNN, using rate encoding"
   ]
  },
  {
   "cell_type": "code",
   "execution_count": 1,
   "metadata": {},
   "outputs": [],
   "source": [
    "import snntorch as snn\n",
    "from snntorch import spikeplot as splt\n",
    "from snntorch import spikegen\n",
    "\n",
    "import torch\n",
    "import torch.nn as nn\n",
    "from torch.utils.data import DataLoader\n",
    "from torchvision import datasets, transforms\n",
    "\n",
    "import matplotlib.pyplot as plt\n",
    "import numpy as np\n",
    "import itertools\n",
    "import copy\n",
    "from scipy.stats import skew\n",
    "import random"
   ]
  },
  {
   "cell_type": "code",
   "execution_count": 2,
   "metadata": {},
   "outputs": [],
   "source": [
    "def seed_all(seed):\n",
    "    np.random.seed(seed)\n",
    "    torch.manual_seed(seed)\n",
    "    torch.cuda.manual_seed(seed)\n",
    "    random.seed(seed)\n",
    "seed_all(42)"
   ]
  },
  {
   "cell_type": "code",
   "execution_count": 3,
   "metadata": {},
   "outputs": [],
   "source": [
    "# Hyperparameters\n",
    "batch_size = 128\n",
    "epochs =3\n",
    "beta = 0.95\n",
    "# The beta defined here = (1 - delta(t)/Tau)\n",
    "# Here delta(t) is the clk period\n",
    "# Tau = Time constant = RC\n",
    "# This is the approximation of beta = exp(-delta(t)/Tau)\n",
    "num_steps = 25"
   ]
  },
  {
   "cell_type": "code",
   "execution_count": 4,
   "metadata": {},
   "outputs": [
    {
     "data": {
      "text/plain": [
       "device(type='cuda')"
      ]
     },
     "execution_count": 4,
     "metadata": {},
     "output_type": "execute_result"
    }
   ],
   "source": [
    "# Perform learning over cuda\n",
    "device = torch.device(\"cuda\") if torch.cuda.is_available() else torch.device(\"cpu\")\n",
    "device"
   ]
  },
  {
   "cell_type": "code",
   "execution_count": 5,
   "metadata": {},
   "outputs": [],
   "source": [
    "transform = transforms.Compose([\n",
    "            transforms.Resize((28, 28)),\n",
    "            transforms.Grayscale(),\n",
    "            transforms.ToTensor(),\n",
    "            transforms.Normalize((0,), (1,))])\n",
    "\n",
    "mnist_train = datasets.MNIST(\"/home/neel/Sem_8/RnD/RnD_rough/data\", train=True, download=True, transform=transform)\n",
    "mnist_test = datasets.MNIST(\"/home/neel/Sem_8/RnD/RnD_rough/data\", train=False, download=True, transform=transform)"
   ]
  },
  {
   "cell_type": "code",
   "execution_count": 6,
   "metadata": {},
   "outputs": [],
   "source": [
    "# Loading the training and test data\n",
    "train_loader = DataLoader(mnist_train, batch_size=batch_size, shuffle=True, drop_last=True)\n",
    "test_loader = DataLoader(mnist_test, batch_size=batch_size, shuffle=True, drop_last=True)"
   ]
  },
  {
   "cell_type": "code",
   "execution_count": 7,
   "metadata": {},
   "outputs": [
    {
     "name": "stdout",
     "output_type": "stream",
     "text": [
      "torch.Size([25, 128, 784])\n"
     ]
    }
   ],
   "source": [
    "data = iter(train_loader)\n",
    "data_it, targets_it = next(data)\n",
    "\n",
    "# Spiking Data\n",
    "data_it = data_it.view(batch_size, -1)\n",
    "spike_data = spikegen.rate(data_it, num_steps=num_steps)\n",
    "print(spike_data.shape)\n",
    "#spike_data = (spike_data.view(num_steps,batch_size, -1))"
   ]
  },
  {
   "cell_type": "code",
   "execution_count": 8,
   "metadata": {},
   "outputs": [
    {
     "data": {
      "text/plain": [
       "torch.Size([25, 128, 784])"
      ]
     },
     "execution_count": 8,
     "metadata": {},
     "output_type": "execute_result"
    }
   ],
   "source": [
    "spike_data.shape"
   ]
  },
  {
   "cell_type": "code",
   "execution_count": 9,
   "metadata": {},
   "outputs": [
    {
     "data": {
      "text/plain": [
       "True"
      ]
     },
     "execution_count": 9,
     "metadata": {},
     "output_type": "execute_result"
    }
   ],
   "source": [
    "# Here we are creating a single hidden layer NN, with 150 nodes\n",
    "class Net(nn.Module):\n",
    "    def __init__(self, num_hidden_layer = 150):\n",
    "        super().__init__()\n",
    "\n",
    "        # Initialize layers\n",
    "        self.linear_1 = nn.Linear(in_features=784,out_features=num_hidden_layer)\n",
    "        self.lif1 = snn.Leaky(beta=beta)\n",
    "        self.linear_2 = nn.Linear(in_features=num_hidden_layer, out_features=10, bias=False)\n",
    "        self.lif2 = snn.Leaky(beta=beta)\n",
    "\n",
    "    def forward(self, x):\n",
    "\n",
    "        # Initialize hidden states at t=0\n",
    "        mem1 = self.lif1.init_leaky()\n",
    "        mem2 = self.lif2.init_leaky()\n",
    "\n",
    "        # Record the final layer\n",
    "        spk2_rec = []\n",
    "        mem2_rec = []\n",
    "        spk1_rec = []\n",
    "\n",
    "        x = spikegen.rate(x, num_steps=num_steps)\n",
    "\n",
    "        for step in range(num_steps):\n",
    "            cur1 = self.linear_1(x[step])\n",
    "            spk1, mem1 = self.lif1(cur1, mem1)\n",
    "            spk1_rec.append(spk1)\n",
    "            cur2 = self.linear_2(spk1)\n",
    "            spk2, mem2 = self.lif2(cur2, mem2)\n",
    "            spk2_rec.append(spk2)\n",
    "            mem2_rec.append(mem2)\n",
    "\n",
    "        return torch.stack(spk1_rec, dim=0) , torch.stack(spk2_rec, dim=0), torch.stack(mem2_rec, dim=0)\n",
    "\n",
    "# Load the network onto CUDA if available\n",
    "num_hidden_layer = 150\n",
    "model = Net(num_hidden_layer=num_hidden_layer).to(device)\n",
    "next(model.parameters()).is_cuda\n"
   ]
  },
  {
   "cell_type": "code",
   "execution_count": 10,
   "metadata": {},
   "outputs": [],
   "source": [
    "loss = nn.CrossEntropyLoss()\n",
    "optimizer = torch.optim.Adam(model.parameters(), lr=0.001)"
   ]
  },
  {
   "cell_type": "code",
   "execution_count": 11,
   "metadata": {},
   "outputs": [],
   "source": [
    "def accuracy():\n",
    "    with torch.no_grad():\n",
    "        n_correct = 0\n",
    "        n_samples = 0\n",
    "        for images, label in test_loader:\n",
    "            images = images.reshape(-1, 28*28).to(device)\n",
    "            label = label.to(device)\n",
    "\n",
    "            # Test set forward pass\n",
    "            _, test_spk, test_mem = model(images.view(batch_size, -1))\n",
    "            n_samples += label.size(0)\n",
    "            _, idx = test_spk.sum(dim=0).max(1)\n",
    "            n_correct+= (label == idx).sum().item()\n",
    "            return(n_correct/n_samples * 100)"
   ]
  },
  {
   "cell_type": "code",
   "execution_count": 12,
   "metadata": {},
   "outputs": [
    {
     "name": "stdout",
     "output_type": "stream",
     "text": [
      "Epoch [1/5], Step[50/468], Loss: 29.7533\n",
      "-------------------------\n",
      "Epoch [1/5], Step[100/468], Loss: 26.2905\n",
      "-------------------------\n",
      "Epoch [1/5], Step[150/468], Loss: 17.7561\n",
      "-------------------------\n",
      "Epoch [1/5], Step[200/468], Loss: 17.5959\n",
      "-------------------------\n",
      "Epoch [1/5], Step[250/468], Loss: 16.0689\n",
      "-------------------------\n",
      "Epoch [1/5], Step[300/468], Loss: 13.7433\n",
      "-------------------------\n",
      "Accuracy before stashing 85.15625\n",
      "Node stashed [0, 1, 2, 3, 4, 5, 6, 11, 12, 15, 16, 17, 18, 21, 23, 25, 27, 29, 31, 32, 34, 36, 38, 40, 42, 43, 44, 45, 47, 49, 50, 51, 53, 56, 57, 60, 61, 62, 65, 66, 68, 70, 71, 75, 79, 80, 81, 82, 84, 85, 86, 88, 89, 90, 93, 94, 97, 100, 102, 103, 104, 105, 106, 107, 110, 111, 112, 115, 116, 118, 120, 121, 126, 127, 128, 129, 130, 132, 133, 137, 138, 139, 140, 141, 144, 145, 146, 149]\n",
      "-------------------------\n",
      "Accuracy after_stashing is 22.65625\n",
      "Epoch [1/5], Step[350/468], Loss: 26.8909\n",
      "-------------------------\n",
      "Epoch [1/5], Step[400/468], Loss: 29.5199\n",
      "-------------------------\n",
      "Epoch [1/5], Step[450/468], Loss: 27.9997\n",
      "-------------------------\n",
      "Epoch [2/5], Step[50/468], Loss: 25.8590\n",
      "-------------------------\n",
      "Epoch [2/5], Step[100/468], Loss: 23.2325\n",
      "-------------------------\n",
      "Epoch [2/5], Step[150/468], Loss: 29.0464\n",
      "-------------------------\n",
      "Epoch [2/5], Step[200/468], Loss: 27.1610\n",
      "-------------------------\n",
      "Epoch [2/5], Step[250/468], Loss: 24.3343\n",
      "-------------------------\n",
      "Epoch [2/5], Step[300/468], Loss: 20.6168\n",
      "-------------------------\n",
      "Accuracy before stashing 79.6875\n",
      "Node stashed [8, 9, 10, 13, 14, 22, 24, 26, 30, 37, 55, 58, 59, 63, 78, 83, 92, 96, 98, 101, 109, 114, 122, 123, 134, 135, 143, 147, 148]\n",
      "-------------------------\n",
      "Accuracy after_stashing is 15.625\n",
      "Epoch [2/5], Step[350/468], Loss: 40.9084\n",
      "-------------------------\n",
      "Epoch [2/5], Step[400/468], Loss: 43.4543\n",
      "-------------------------\n",
      "Epoch [2/5], Step[450/468], Loss: 40.1969\n",
      "-------------------------\n",
      "Epoch [3/5], Step[50/468], Loss: 41.0630\n",
      "-------------------------\n",
      "Epoch [3/5], Step[100/468], Loss: 36.5727\n",
      "-------------------------\n",
      "Epoch [3/5], Step[150/468], Loss: 34.7238\n",
      "-------------------------\n",
      "Epoch [3/5], Step[200/468], Loss: 38.0905\n",
      "-------------------------\n",
      "Epoch [3/5], Step[250/468], Loss: 40.7715\n",
      "-------------------------\n",
      "Epoch [3/5], Step[300/468], Loss: 32.2075\n",
      "-------------------------\n",
      "Accuracy before stashing 71.09375\n",
      "Node stashed [7, 20, 28, 33, 41, 46, 52, 64, 73, 77, 87, 99, 113, 125]\n",
      "-------------------------\n",
      "Accuracy after_stashing is 10.9375\n",
      "Epoch [3/5], Step[350/468], Loss: 57.1637\n",
      "-------------------------\n",
      "Epoch [3/5], Step[400/468], Loss: 56.1599\n",
      "-------------------------\n",
      "Epoch [3/5], Step[450/468], Loss: 56.7202\n",
      "-------------------------\n",
      "Epoch [4/5], Step[50/468], Loss: 56.2992\n",
      "-------------------------\n",
      "Epoch [4/5], Step[100/468], Loss: 56.5826\n",
      "-------------------------\n",
      "Epoch [4/5], Step[150/468], Loss: 56.7179\n",
      "-------------------------\n",
      "Epoch [4/5], Step[200/468], Loss: 51.1087\n",
      "-------------------------\n",
      "Epoch [4/5], Step[250/468], Loss: 51.9489\n",
      "-------------------------\n",
      "Epoch [4/5], Step[300/468], Loss: 51.6678\n",
      "-------------------------\n",
      "Accuracy before stashing 14.84375\n",
      "Node stashed [39, 72]\n",
      "-------------------------\n",
      "Accuracy after_stashing is 10.9375\n",
      "Epoch [4/5], Step[350/468], Loss: 57.5646\n",
      "-------------------------\n",
      "Epoch [4/5], Step[400/468], Loss: 57.5646\n",
      "-------------------------\n",
      "Epoch [4/5], Step[450/468], Loss: 57.5646\n",
      "-------------------------\n",
      "Joined all the stashed nodes\n",
      "Assertions Passed\n",
      "Epoch [5/5], Step[50/468], Loss: 15.4787\n",
      "-------------------------\n",
      "Epoch [5/5], Step[100/468], Loss: 12.1242\n",
      "-------------------------\n",
      "Epoch [5/5], Step[150/468], Loss: 14.5806\n",
      "-------------------------\n",
      "Epoch [5/5], Step[200/468], Loss: 15.1203\n",
      "-------------------------\n",
      "Epoch [5/5], Step[250/468], Loss: 14.8768\n",
      "-------------------------\n",
      "Epoch [5/5], Step[300/468], Loss: 15.2292\n",
      "-------------------------\n",
      "Epoch [5/5], Step[350/468], Loss: 12.6697\n",
      "-------------------------\n",
      "Epoch [5/5], Step[400/468], Loss: 10.7499\n",
      "-------------------------\n",
      "Epoch [5/5], Step[450/468], Loss: 15.2796\n",
      "-------------------------\n",
      "Total nodes stashed 133\n",
      "CPU times: user 2min 11s, sys: 255 ms, total: 2min 11s\n",
      "Wall time: 2min 10s\n"
     ]
    }
   ],
   "source": [
    "%%time\n",
    "stashed_global = []\n",
    "stashed_lin1_wt_dict = {}\n",
    "stashed_lin1_bias_dict = {}\n",
    "stashed_lin2_wt_dict = {}\n",
    "threshold = 11\n",
    "accuracy_plot = []\n",
    "univ = [i for i in range(num_hidden_layer)]\n",
    "#spk1_freq_temp = torch.empty((batch_size,num_hidden_layer)).to(device)\n",
    "n_total_steps = len(train_loader)\n",
    "for epoch_iter in range(epochs):\n",
    "    spk1_freq_temp = torch.empty((batch_size,num_hidden_layer)).to(device)\n",
    "\n",
    "    if(epoch_iter == (epochs-1)):\n",
    "        print(\"Joined all the stashed nodes\")\n",
    "        for i in stashed_global:\n",
    "            assert model.linear_2.weight[:,i].any() == False\n",
    "            assert model.linear_1.weight[i,:].any() == False\n",
    "            assert model.linear_1.bias[i] == 0\n",
    "        print(\"Assertions Passed\")\n",
    "        with torch.no_grad():\n",
    "            for key in stashed_lin1_wt_dict:\n",
    "                model.linear_1.weight[key,:] = stashed_lin1_wt_dict[key]\n",
    "                model.linear_1.bias[key] = stashed_lin1_bias_dict[key]\n",
    "                model.linear_2.weight[:,key] = stashed_lin2_wt_dict[key]\n",
    "   \n",
    "\n",
    "    for i,(data, target) in enumerate(train_loader):\n",
    "        x = data.to(device)\n",
    "        y = target.to(device)\n",
    "        spk1_rec, spk_rec, mem_rec = model(x.view(batch_size, -1))\n",
    "        spk1_rec = torch.sum(spk1_rec, 0)\n",
    "        spk1_freq_temp = torch.cat((spk1_freq_temp, spk1_rec))\n",
    "        loss_val = torch.zeros((1),device=device)\n",
    "        for step in range(num_steps):\n",
    "            loss_val += loss(mem_rec[step], y)\n",
    "        optimizer.zero_grad()\n",
    "        loss_val.backward()\n",
    "        optimizer.step()\n",
    "\n",
    "        if((i+1) % 30 == 0):\n",
    "            accuracy_plot.append(accuracy())\n",
    "\n",
    "        if (i+1) % 50 == 0:\n",
    "             print (f'Epoch [{epoch_iter+1}/{epochs}], Step[{i+1}/{(n_total_steps)}], Loss: {loss_val.item():.4f}')\n",
    "             print(\"-------------------------\")\n",
    "        \n",
    "        if((epoch_iter<(epochs-1)) and (i+1) % 300 == 0):\n",
    "            stashed = []\n",
    "            print(\"Accuracy before stashing\", accuracy())\n",
    "            for j in univ:\n",
    "                if(spk1_freq_temp[-1,j]>threshold):\n",
    "                    stashed.append(j)\n",
    "                    stashed_global.append(j)\n",
    "            for k in stashed:\n",
    "                stashed_lin1_wt_dict[k] =model.linear_1.weight[k,:].clone().detach()\n",
    "                stashed_lin1_bias_dict[k] = model.linear_1.bias[k].clone().detach()\n",
    "                stashed_lin2_wt_dict[k] = model.linear_2.weight[:,k].clone().detach()\n",
    "            \n",
    "            print(\"Node stashed\", stashed)\n",
    "            print(\"-------------------------\")\n",
    "            univ = [i for i in univ if i not in stashed]\n",
    "        \n",
    "        if(epoch_iter<(epochs-1)):\n",
    "            for k in stashed_global:\n",
    "                with torch.no_grad():\n",
    "                    model.linear_1.weight[k,:] = 0\n",
    "                    model.linear_1.bias[k] = 0\n",
    "                    model.linear_2.weight[:,k] = 0\n",
    "            \n",
    "            if((i+1) % 300 == 0):\n",
    "                print(\"Accuracy after_stashing is\", accuracy())\n",
    "\n",
    "print(\"Total nodes stashed\", len(stashed_global))\n",
    "        "
   ]
  },
  {
   "cell_type": "code",
   "execution_count": 13,
   "metadata": {},
   "outputs": [
    {
     "name": "stdout",
     "output_type": "stream",
     "text": [
      "74.21875\n"
     ]
    }
   ],
   "source": [
    "print(accuracy())\n",
    "accuracy_plot.append(accuracy())\n"
   ]
  },
  {
   "cell_type": "code",
   "execution_count": 14,
   "metadata": {},
   "outputs": [
    {
     "data": {
      "text/plain": [
       "[<matplotlib.lines.Line2D at 0x7f74e1846be0>]"
      ]
     },
     "execution_count": 14,
     "metadata": {},
     "output_type": "execute_result"
    },
    {
     "data": {
      "image/png": "[encoded data removed]",
      "text/plain": [
       "<Figure size 640x480 with 1 Axes>"
      ]
     },
     "metadata": {},
     "output_type": "display_data"
    }
   ],
   "source": [
    "plt.plot(accuracy_plot)"
   ]
  },
  {
   "cell_type": "code",
   "execution_count": 15,
   "metadata": {},
   "outputs": [],
   "source": [
    "spk1_freq = spk1_freq_temp[batch_size:,:]\n",
    "spk1_freq = spk1_freq.cpu().detach().numpy()"
   ]
  },
  {
   "cell_type": "code",
   "execution_count": 16,
   "metadata": {},
   "outputs": [
    {
     "data": {
      "text/plain": [
       "(array([79.,  1.,  1.,  1.,  0.,  0.,  2.,  0.,  1., 65.]),\n",
       " array([ 0. ,  2.5,  5. ,  7.5, 10. , 12.5, 15. , 17.5, 20. , 22.5, 25. ],\n",
       "       dtype=float32),\n",
       " <BarContainer object of 10 artists>)"
      ]
     },
     "execution_count": 16,
     "metadata": {},
     "output_type": "execute_result"
    },
    {
     "data": {
      "image/png": "[encoded data removed]",
      "text/plain": [
       "<Figure size 640x480 with 1 Axes>"
      ]
     },
     "metadata": {},
     "output_type": "display_data"
    }
   ],
   "source": [
    "# Calculating the statistics of our spikes\n",
    "mean_all_node = np.mean(spk1_freq,axis=0)\n",
    "std_dev_all_node = np.std(spk1_freq,axis=0)\n",
    "skew_all_node = skew(spk1_freq,axis=0)\n",
    "successive_dif_all_node = np.diff(spk1_freq, axis=0)\n",
    "plt.hist(spk1_freq[-1,:])"
   ]
  },
  {
   "cell_type": "code",
   "execution_count": 17,
   "metadata": {},
   "outputs": [],
   "source": [
    "torch.save(model, 'rate_encoding_SNN_stashing_threshold_24.pt')"
   ]
  },
  {
   "cell_type": "code",
   "execution_count": 18,
   "metadata": {},
   "outputs": [],
   "source": [
    "# #Creating computational graph to see, whether all the neurons are contributing or not\n",
    "# batch = next(iter(train_loader))\n",
    "# yhat = net(batch[0].reshape(-1,28*28).to(device)) # Give dummy batch to forward().\n",
    "\n",
    "# from torchviz import make_dot\n",
    "\n",
    "# make_dot(yhat, params=dict(list(net.named_parameters()))).render(\"trial_1\", format=\"png\")"
   ]
  }
 ],
 "metadata": {
  "kernelspec": {
   "display_name": "base",
   "language": "python",
   "name": "python3"
  },
  "language_info": {
   "codemirror_mode": {
    "name": "ipython",
    "version": 3
   },
   "file_extension": ".py",
   "mimetype": "text/x-python",
   "name": "python",
   "nbconvert_exporter": "python",
   "pygments_lexer": "ipython3",
   "version": "3.9.12"
  },
  "orig_nbformat": 4
 },
 "nbformat": 4,
 "nbformat_minor": 2
}
