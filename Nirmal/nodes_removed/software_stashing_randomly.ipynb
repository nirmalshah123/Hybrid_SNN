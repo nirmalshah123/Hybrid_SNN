{
 "cells": [
  {
   "cell_type": "code",
   "execution_count": 14,
   "metadata": {},
   "outputs": [],
   "source": [
    "import torch\n",
    "import torch.nn as nn\n",
    "from torch.utils.data import DataLoader\n",
    "import numpy\n",
    "import cv2\n",
    "from matplotlib import pyplot as plt\n",
    "from torchvision import datasets\n",
    "import torchvision\n",
    "import copy"
   ]
  },
  {
   "cell_type": "code",
   "execution_count": 15,
   "metadata": {},
   "outputs": [],
   "source": [
    "# Hyper-parameters\n",
    "batch_size = 128\n",
    "learning_rate = 0.001\n",
    "epochs = 5"
   ]
  },
  {
   "cell_type": "code",
   "execution_count": 16,
   "metadata": {},
   "outputs": [
    {
     "name": "stdout",
     "output_type": "stream",
     "text": [
      "cuda\n"
     ]
    }
   ],
   "source": [
    "#device = torch.device('cuda' if torch.cuda.is_available() else 'cpu')\n",
    "device = torch.device('cuda')\n",
    "print(device)"
   ]
  },
  {
   "cell_type": "code",
   "execution_count": 17,
   "metadata": {},
   "outputs": [],
   "source": [
    "# Loading our dataset\n",
    "transform = torchvision.transforms.Compose([torchvision.transforms.ToTensor()])\n",
    "train_data = datasets.MNIST(root='./../data', train=True, download=True, transform=transform)\n",
    "test_data = datasets.MNIST(root='./../data', train=False, download=True, transform=transform)\n",
    "train_loader = DataLoader(train_data,batch_size=batch_size,shuffle=True)\n",
    "test_loader = DataLoader(test_data,batch_size=batch_size,shuffle=False)"
   ]
  },
  {
   "cell_type": "code",
   "execution_count": 18,
   "metadata": {},
   "outputs": [],
   "source": [
    "# Create our model\n",
    "class mnist_nn(nn.Module):\n",
    "    def __init__(self):\n",
    "        super(mnist_nn,self).__init__()\n",
    "        \n",
    "        self.linear_1 = nn.Linear(in_features=784,out_features=1600)\n",
    "        self.activation = nn.ReLU()\n",
    "        self.linear_2 = nn.Linear(in_features=1600,out_features=10, bias=False)\n",
    "\n",
    "    def forward(self,x):\n",
    "        x = self.linear_1(x)\n",
    "        x = self.activation(x)\n",
    "        x = self.linear_2(x)\n",
    "        return(x)"
   ]
  },
  {
   "cell_type": "code",
   "execution_count": 19,
   "metadata": {},
   "outputs": [],
   "source": [
    "model = mnist_nn().to(device)"
   ]
  },
  {
   "cell_type": "code",
   "execution_count": 20,
   "metadata": {},
   "outputs": [],
   "source": [
    "criteration = nn.CrossEntropyLoss()\n",
    "optimizer = torch.optim.Adam(model.parameters(), lr= learning_rate)"
   ]
  },
  {
   "cell_type": "code",
   "execution_count": 21,
   "metadata": {},
   "outputs": [],
   "source": [
    "def accuracy():\n",
    "    with torch.no_grad():\n",
    "        n_correct = 0\n",
    "        n_samples = 0\n",
    "        for images, labels in test_loader:\n",
    "            images = images.reshape(-1, 28*28).to(device)\n",
    "            labels = labels.to(device)\n",
    "            outputs = model(images)\n",
    "            _, predicted = torch.max(outputs.data, 1)\n",
    "            n_samples += labels.size(0)\n",
    "            n_correct += (predicted == labels).sum().item() \n",
    "        return(n_correct/n_samples * 100)"
   ]
  },
  {
   "cell_type": "code",
   "execution_count": 22,
   "metadata": {},
   "outputs": [
    {
     "data": {
      "text/plain": [
       "[1264, 958, 1154, 940, 609, 1451, 663, 1426]"
      ]
     },
     "execution_count": 22,
     "metadata": {},
     "output_type": "execute_result"
    }
   ],
   "source": [
    "# Generating non duplicate random nodes to be stashed out of hidden layer per epoch \n",
    "import random\n",
    "stashed = random.sample(range(1600), 8)\n",
    "stashed"
   ]
  },
  {
   "cell_type": "code",
   "execution_count": 23,
   "metadata": {},
   "outputs": [
    {
     "name": "stdout",
     "output_type": "stream",
     "text": [
      "Epoch [1/5], Step[100/469], Loss: 0.4226\n",
      "Epoch [1/5], Step[200/469], Loss: 0.2443\n",
      "Accuracy before stashing 94.35\n",
      "Node stashed 1264\n",
      "-------------------------\n",
      "Accuracy after_stashing is 94.35\n",
      "Epoch [1/5], Step[300/469], Loss: 0.1323\n",
      "Epoch [1/5], Step[400/469], Loss: 0.1663\n",
      "Accuracy before stashing 96.36\n",
      "Node stashed 958\n",
      "-------------------------\n",
      "Accuracy after_stashing is 96.38\n",
      "Epoch [2/5], Step[100/469], Loss: 0.0500\n",
      "Epoch [2/5], Step[200/469], Loss: 0.0608\n",
      "Accuracy before stashing 97.2\n",
      "Node stashed 1154\n",
      "-------------------------\n",
      "Accuracy after_stashing is 97.2\n",
      "Epoch [2/5], Step[300/469], Loss: 0.1072\n",
      "Epoch [2/5], Step[400/469], Loss: 0.1364\n",
      "Accuracy before stashing 97.23\n",
      "Node stashed 940\n",
      "-------------------------\n",
      "Accuracy after_stashing is 97.22\n",
      "Epoch [3/5], Step[100/469], Loss: 0.0672\n",
      "Epoch [3/5], Step[200/469], Loss: 0.0869\n",
      "Accuracy before stashing 97.75\n",
      "Node stashed 609\n",
      "-------------------------\n",
      "Accuracy after_stashing is 97.72999999999999\n",
      "Epoch [3/5], Step[300/469], Loss: 0.0599\n",
      "Epoch [3/5], Step[400/469], Loss: 0.0300\n",
      "Accuracy before stashing 97.39\n",
      "Node stashed 1451\n",
      "-------------------------\n",
      "Accuracy after_stashing is 97.39999999999999\n",
      "Epoch [4/5], Step[100/469], Loss: 0.0390\n",
      "Epoch [4/5], Step[200/469], Loss: 0.0597\n",
      "Accuracy before stashing 97.97\n",
      "Node stashed 663\n",
      "-------------------------\n",
      "Accuracy after_stashing is 97.97\n",
      "Epoch [4/5], Step[300/469], Loss: 0.0229\n",
      "Epoch [4/5], Step[400/469], Loss: 0.0688\n",
      "Accuracy before stashing 97.84\n",
      "Node stashed 1426\n",
      "-------------------------\n",
      "Accuracy after_stashing is 97.84\n",
      "Joined all the stashed nodes\n",
      "Assertions Passed\n",
      "Epoch [5/5], Step[100/469], Loss: 0.0151\n",
      "Epoch [5/5], Step[200/469], Loss: 0.0217\n",
      "Epoch [5/5], Step[300/469], Loss: 0.0124\n",
      "Epoch [5/5], Step[400/469], Loss: 0.0197\n",
      "CPU times: user 40.2 s, sys: 34.6 ms, total: 40.2 s\n",
      "Wall time: 39.8 s\n"
     ]
    }
   ],
   "source": [
    "%%time\n",
    "j = 0\n",
    "local_stashed = []\n",
    "stashed_lin1_wt_dict = {}\n",
    "stashed_lin1_bias_dict = {}\n",
    "stashed_lin2_wt_dict = {}\n",
    "n_total_steps = len(train_loader)\n",
    "for epoch_iter in range(epochs):\n",
    "    if(epoch_iter == (epochs-1)):\n",
    "        print(\"Joined all the stashed nodes\")\n",
    "        for i in stashed:\n",
    "            assert model.linear_2.weight[:,i].any() == False\n",
    "            assert model.linear_1.weight[i,:].any() == False\n",
    "            assert model.linear_1.bias[i] == 0\n",
    "        print(\"Assertions Passed\")\n",
    "        with torch.no_grad():\n",
    "            for key in stashed_lin1_wt_dict:\n",
    "                model.linear_1.weight[key,:] = stashed_lin1_wt_dict[key]\n",
    "                model.linear_1.bias[key] = stashed_lin1_bias_dict[key]\n",
    "                model.linear_2.weight[:,key] = stashed_lin2_wt_dict[key]\n",
    "   \n",
    "    for i,(data, label) in enumerate(train_loader):\n",
    "        x = data.reshape(-1,28*28).to(device)\n",
    "        y = label.to(device)\n",
    "        optimizer.zero_grad()\n",
    "        pred = model(x)\n",
    "        loss = criteration(pred,y)\n",
    "        loss.backward()\n",
    "        optimizer.step()\n",
    "        if (i+1) % 100 == 0:\n",
    "             print (f'Epoch [{epoch_iter+1}/{epochs}], Step[{i+1}/{n_total_steps}], Loss: {loss.item():.4f}')\n",
    "    \n",
    "        if((epoch_iter<(epochs-1)) and (i+1) % 200 == 0):\n",
    "            print(\"Accuracy before stashing\", accuracy())\n",
    "            print(\"Node stashed\", stashed[j])\n",
    "            print(\"-------------------------\")\n",
    "            local_stashed.append(stashed[j])\n",
    "            stashed_lin1_wt_dict[stashed[j]] =model.linear_1.weight[stashed[j],:].clone().detach()\n",
    "            stashed_lin1_bias_dict[stashed[j]] = model.linear_1.bias[stashed[j]].clone().detach()\n",
    "            stashed_lin2_wt_dict[stashed[j]] = model.linear_2.weight[:,stashed[j]].clone().detach()\n",
    "            j+=1\n",
    "        \n",
    "        if(epoch_iter<(epochs-1)):\n",
    "            for k in local_stashed:\n",
    "                with torch.no_grad():\n",
    "                    model.linear_1.weight[k,:] = 0\n",
    "                    model.linear_1.bias[k] = 0\n",
    "                    model.linear_2.weight[:,k] = 0\n",
    "            \n",
    "            if((i+1) % 200 == 0):\n",
    "                print(\"Accuracy after_stashing is\", accuracy())"
   ]
  },
  {
   "cell_type": "code",
   "execution_count": 24,
   "metadata": {},
   "outputs": [
    {
     "data": {
      "text/plain": [
       "97.99"
      ]
     },
     "execution_count": 24,
     "metadata": {},
     "output_type": "execute_result"
    }
   ],
   "source": [
    "accuracy()"
   ]
  },
  {
   "cell_type": "code",
   "execution_count": 25,
   "metadata": {},
   "outputs": [],
   "source": [
    "torch.save(model, 'software_stashing_randomly.pt')"
   ]
  },
  {
   "cell_type": "code",
   "execution_count": 26,
   "metadata": {},
   "outputs": [],
   "source": [
    "# batch = next(iter(train_loader))\n",
    "# yhat = model(batch[0].reshape(-1,28*28).to(device)) # Give dummy batch to forward().\n",
    "\n",
    "# from torchviz import make_dot\n",
    "\n",
    "# make_dot(yhat, params=dict(list(model.named_parameters()))).render(\"simple_nn\", format=\"png\")"
   ]
  }
 ],
 "metadata": {
  "kernelspec": {
   "display_name": "base",
   "language": "python",
   "name": "python3"
  },
  "language_info": {
   "codemirror_mode": {
    "name": "ipython",
    "version": 3
   },
   "file_extension": ".py",
   "mimetype": "text/x-python",
   "name": "python",
   "nbconvert_exporter": "python",
   "pygments_lexer": "ipython3",
   "version": "3.9.13"
  },
  "orig_nbformat": 4
 },
 "nbformat": 4,
 "nbformat_minor": 2
}
