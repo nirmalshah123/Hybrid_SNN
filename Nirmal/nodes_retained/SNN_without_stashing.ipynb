{
 "cells": [
  {
   "attachments": {},
   "cell_type": "markdown",
   "metadata": {},
   "source": [
    "This is normal SNN network without stashing"
   ]
  },
  {
   "cell_type": "code",
   "execution_count": 1,
   "metadata": {},
   "outputs": [],
   "source": [
    "import snntorch as snn\n",
    "from snntorch import spikeplot as splt\n",
    "from snntorch import spikegen\n",
    "\n",
    "import torch\n",
    "import torch.nn as nn\n",
    "from torch.utils.data import DataLoader\n",
    "from torchvision import datasets, transforms\n",
    "\n",
    "import matplotlib.pyplot as plt\n",
    "import numpy as np\n",
    "import itertools\n",
    "import copy\n",
    "from scipy.stats import skew\n",
    "import random"
   ]
  },
  {
   "cell_type": "code",
   "execution_count": 2,
   "metadata": {},
   "outputs": [],
   "source": [
    "def seed_all(seed):\n",
    "    np.random.seed(seed)\n",
    "    torch.manual_seed(seed)\n",
    "    torch.cuda.manual_seed(seed)\n",
    "    random.seed(seed)\n",
    "seed_all(42)"
   ]
  },
  {
   "cell_type": "code",
   "execution_count": 3,
   "metadata": {},
   "outputs": [],
   "source": [
    "# Hyperparameters\n",
    "batch_size = 128\n",
    "epochs = 3\n",
    "beta = 0.95\n",
    "# The beta defined here = (1 - delta(t)/Tau)\n",
    "# Here delta(t) is the clk period\n",
    "# Tau = Time constant = RC\n",
    "# This is the approximation of beta = exp(-delta(t)/Tau)\n",
    "num_steps = 25"
   ]
  },
  {
   "cell_type": "code",
   "execution_count": 4,
   "metadata": {},
   "outputs": [
    {
     "data": {
      "text/plain": [
       "device(type='cuda')"
      ]
     },
     "execution_count": 4,
     "metadata": {},
     "output_type": "execute_result"
    }
   ],
   "source": [
    "# Perform learning over cuda\n",
    "device = torch.device(\"cuda\") if torch.cuda.is_available() else torch.device(\"cpu\")\n",
    "device"
   ]
  },
  {
   "cell_type": "code",
   "execution_count": 5,
   "metadata": {},
   "outputs": [],
   "source": [
    "transform = transforms.Compose([\n",
    "            transforms.Resize((28, 28)),\n",
    "            transforms.Grayscale(),\n",
    "            transforms.ToTensor(),\n",
    "            transforms.Normalize((0,), (1,))])\n",
    "\n",
    "mnist_train = datasets.MNIST(\"./../data\", train=True, download=True, transform=transform)\n",
    "mnist_test = datasets.MNIST(\"./../data\", train=False, download=True, transform=transform)"
   ]
  },
  {
   "cell_type": "code",
   "execution_count": 6,
   "metadata": {},
   "outputs": [],
   "source": [
    "# Loading the training and test data\n",
    "train_loader = DataLoader(mnist_train, batch_size=batch_size, shuffle=True, drop_last=True)\n",
    "test_loader = DataLoader(mnist_test, batch_size=batch_size, shuffle=True, drop_last=True)"
   ]
  },
  {
   "cell_type": "code",
   "execution_count": 7,
   "metadata": {},
   "outputs": [],
   "source": [
    "# Here we are creating a single hidden layer NN, with 150 nodes\n",
    "class Net(nn.Module):\n",
    "    def __init__(self):\n",
    "        super().__init__()\n",
    "\n",
    "        # Initialize layers\n",
    "        self.fc1 = nn.Linear(784, 150, bias=False)\n",
    "        self.lif1 = snn.Leaky(beta=beta,reset_mechanism= \"zero\")\n",
    "        self.fc2 = nn.Linear(150, 10, bias=False)\n",
    "        self.lif2 = snn.Leaky(beta=beta)\n",
    "\n",
    "    def forward(self, x):\n",
    "\n",
    "        # Initialize hidden states at t=0\n",
    "        mem1 = self.lif1.init_leaky()\n",
    "        mem2 = self.lif2.init_leaky()\n",
    "\n",
    "        # Record the final layer\n",
    "        spk2_rec = []\n",
    "        mem2_rec = []\n",
    "        \n",
    "        for step in range(num_steps):\n",
    "            cur1 = self.fc1(x)\n",
    "            spk1, mem1 = self.lif1(cur1, mem1)\n",
    "            cur2 = self.fc2(spk1)\n",
    "            spk2, mem2 = self.lif2(cur2, mem2)\n",
    "            spk2_rec.append(spk2)\n",
    "            mem2_rec.append(mem2)\n",
    "\n",
    "        return torch.stack(spk2_rec, dim=0), torch.stack(mem2_rec, dim=0)\n",
    "\n",
    "# Load the network onto CUDA if available\n",
    "net = Net().to(device)\n"
   ]
  },
  {
   "cell_type": "code",
   "execution_count": 8,
   "metadata": {},
   "outputs": [
    {
     "data": {
      "text/plain": [
       "True"
      ]
     },
     "execution_count": 8,
     "metadata": {},
     "output_type": "execute_result"
    }
   ],
   "source": [
    "next(net.parameters()).is_cuda"
   ]
  },
  {
   "cell_type": "code",
   "execution_count": 9,
   "metadata": {},
   "outputs": [],
   "source": [
    "loss = nn.CrossEntropyLoss()\n",
    "optimizer = torch.optim.Adam(net.parameters(), lr=0.001)"
   ]
  },
  {
   "cell_type": "code",
   "execution_count": 10,
   "metadata": {},
   "outputs": [],
   "source": [
    "def accuracy():\n",
    "    with torch.no_grad():\n",
    "        n_correct = 0\n",
    "        n_samples = 0\n",
    "        for images, label in test_loader:\n",
    "            images = images.reshape(-1, 28*28).to(device)\n",
    "            label = label.to(device)\n",
    "\n",
    "            # Test set forward pass\n",
    "            test_spk, test_mem = net(images.view(batch_size, -1))\n",
    "            n_samples += label.size(0)\n",
    "            _, idx = test_spk.sum(dim=0).max(1)\n",
    "            n_correct+= (label == idx).sum().item()\n",
    "            return(n_correct/n_samples * 100)"
   ]
  },
  {
   "cell_type": "code",
   "execution_count": 11,
   "metadata": {},
   "outputs": [
    {
     "name": "stdout",
     "output_type": "stream",
     "text": [
      "Epoch [1/3], Step[100/468], Loss: 15.3867\n",
      "Epoch [1/3], Step[200/468], Loss: 7.9441\n",
      "Epoch [1/3], Step[300/468], Loss: 8.4975\n",
      "Epoch [1/3], Step[400/468], Loss: 9.4965\n",
      "Epoch [2/3], Step[100/468], Loss: 7.7095\n",
      "Epoch [2/3], Step[200/468], Loss: 12.9007\n",
      "Epoch [2/3], Step[300/468], Loss: 5.3362\n",
      "Epoch [2/3], Step[400/468], Loss: 5.1104\n",
      "Epoch [3/3], Step[100/468], Loss: 6.3603\n",
      "Epoch [3/3], Step[200/468], Loss: 11.2323\n",
      "Epoch [3/3], Step[300/468], Loss: 8.0277\n",
      "Epoch [3/3], Step[400/468], Loss: 5.9627\n",
      "CPU times: user 1min 10s, sys: 201 ms, total: 1min 10s\n",
      "Wall time: 1min 10s\n"
     ]
    }
   ],
   "source": [
    "%%time\n",
    "accuracy_plot = []\n",
    "n_total_steps = len(train_loader)\n",
    "for epoch_iter in range(epochs):\n",
    "    for i,(data, target) in enumerate(train_loader):\n",
    "        x = data.to(device)\n",
    "        y = target.to(device)\n",
    "        spk_rec, mem_rec = net(x.view(batch_size, -1))\n",
    "        loss_val = torch.zeros((1),device=device)\n",
    "        for step in range(num_steps):\n",
    "            loss_val += loss(mem_rec[step], y)\n",
    "        optimizer.zero_grad()\n",
    "        loss_val.backward()\n",
    "        optimizer.step()\n",
    "        if((i+1) % 30 == 0):\n",
    "            accuracy_plot.append(accuracy())\n",
    "        if (i+1) % 100 == 0:\n",
    "             print (f'Epoch [{epoch_iter+1}/{epochs}], Step[{i+1}/{n_total_steps}], Loss: {loss_val.item():.4f}')\n",
    "\n",
    "        "
   ]
  },
  {
   "cell_type": "code",
   "execution_count": 12,
   "metadata": {},
   "outputs": [
    {
     "name": "stdout",
     "output_type": "stream",
     "text": [
      "95.3125\n"
     ]
    }
   ],
   "source": [
    "print(accuracy())\n",
    "accuracy_plot.append(accuracy())"
   ]
  },
  {
   "cell_type": "code",
   "execution_count": 13,
   "metadata": {},
   "outputs": [
    {
     "data": {
      "text/plain": [
       "Text(0, 0.5, 'Accuracy')"
      ]
     },
     "execution_count": 13,
     "metadata": {},
     "output_type": "execute_result"
    },
    {
     "data": {
      "image/png": "[encoded data removed]",
      "text/plain": [
       "<Figure size 640x480 with 1 Axes>"
      ]
     },
     "metadata": {},
     "output_type": "display_data"
    }
   ],
   "source": [
    "plt.plot(accuracy_plot)\n",
    "plt.title(\"SNN without stashing\")\n",
    "plt.xlabel(\"Mini batches iterations\")\n",
    "plt.ylabel(\"Accuracy\")\n"
   ]
  },
  {
   "cell_type": "code",
   "execution_count": 14,
   "metadata": {},
   "outputs": [],
   "source": [
    "# torch.save(net, 'SNN_without_stashing.pt')"
   ]
  },
  {
   "cell_type": "code",
   "execution_count": 15,
   "metadata": {},
   "outputs": [],
   "source": [
    "# #Creating computational graph to see, whether all the neurons are contributing or not\n",
    "# batch = next(iter(train_loader))\n",
    "# yhat = net(batch[0].reshape(-1,28*28).to(device)) # Give dummy batch to forward().\n",
    "\n",
    "# from torchviz import make_dot\n",
    "\n",
    "# make_dot(yhat, params=dict(list(net.named_parameters()))).render(\"trial_1\", format=\"png\")"
   ]
  }
 ],
 "metadata": {
  "kernelspec": {
   "display_name": "base",
   "language": "python",
   "name": "python3"
  },
  "language_info": {
   "codemirror_mode": {
    "name": "ipython",
    "version": 3
   },
   "file_extension": ".py",
   "mimetype": "text/x-python",
   "name": "python",
   "nbconvert_exporter": "python",
   "pygments_lexer": "ipython3",
   "version": "3.9.12"
  },
  "orig_nbformat": 4
 },
 "nbformat": 4,
 "nbformat_minor": 2
}
