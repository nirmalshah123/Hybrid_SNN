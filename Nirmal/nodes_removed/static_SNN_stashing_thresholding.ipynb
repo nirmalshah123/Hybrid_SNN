{
 "cells": [
  {
   "attachments": {},
   "cell_type": "markdown",
   "metadata": {},
   "source": [
    "Stashing the SNN, after calculating the spikes from trial_2"
   ]
  },
  {
   "cell_type": "code",
   "execution_count": 1,
   "metadata": {},
   "outputs": [],
   "source": [
    "import snntorch as snn\n",
    "from snntorch import spikeplot as splt\n",
    "from snntorch import spikegen\n",
    "\n",
    "import torch\n",
    "import torch.nn as nn\n",
    "from torch.utils.data import DataLoader\n",
    "from torchvision import datasets, transforms\n",
    "\n",
    "import matplotlib.pyplot as plt\n",
    "import numpy as np\n",
    "import itertools\n",
    "import copy\n",
    "from scipy.stats import skew"
   ]
  },
  {
   "cell_type": "code",
   "execution_count": 2,
   "metadata": {},
   "outputs": [],
   "source": [
    "# Hyperparameters\n",
    "batch_size = 128\n",
    "epochs =5\n",
    "beta = 0.95\n",
    "# The beta defined here = (1 - delta(t)/Tau)\n",
    "# Here delta(t) is the clk period\n",
    "# Tau = Time constant = RC\n",
    "# This is the approximation of beta = exp(-delta(t)/Tau)\n",
    "num_steps = 25"
   ]
  },
  {
   "cell_type": "code",
   "execution_count": 3,
   "metadata": {},
   "outputs": [
    {
     "data": {
      "text/plain": [
       "device(type='cuda')"
      ]
     },
     "execution_count": 3,
     "metadata": {},
     "output_type": "execute_result"
    }
   ],
   "source": [
    "# Perform learning over cuda\n",
    "device = torch.device(\"cuda\") if torch.cuda.is_available() else torch.device(\"cpu\")\n",
    "device"
   ]
  },
  {
   "cell_type": "code",
   "execution_count": 4,
   "metadata": {},
   "outputs": [],
   "source": [
    "transform = transforms.Compose([\n",
    "            transforms.Resize((28, 28)),\n",
    "            transforms.Grayscale(),\n",
    "            transforms.ToTensor(),\n",
    "            transforms.Normalize((0,), (1,))])\n",
    "\n",
    "mnist_train = datasets.MNIST(\"./../data\", train=True, download=True, transform=transform)\n",
    "mnist_test = datasets.MNIST(\"./../data\", train=False, download=True, transform=transform)"
   ]
  },
  {
   "cell_type": "code",
   "execution_count": 5,
   "metadata": {},
   "outputs": [],
   "source": [
    "# Loading the training and test data\n",
    "train_loader = DataLoader(mnist_train, batch_size=batch_size, shuffle=True, drop_last=True)\n",
    "test_loader = DataLoader(mnist_test, batch_size=batch_size, shuffle=True, drop_last=True)"
   ]
  },
  {
   "cell_type": "code",
   "execution_count": 6,
   "metadata": {},
   "outputs": [
    {
     "data": {
      "text/plain": [
       "True"
      ]
     },
     "execution_count": 6,
     "metadata": {},
     "output_type": "execute_result"
    }
   ],
   "source": [
    "# Here we are creating a single hidden layer NN, with 150 nodes\n",
    "class Net(nn.Module):\n",
    "    def __init__(self, num_hidden_layer = 150):\n",
    "        super().__init__()\n",
    "\n",
    "        # Initialize layers\n",
    "        self.linear_1 = nn.Linear(in_features=784,out_features=num_hidden_layer)\n",
    "        self.lif1 = snn.Leaky(beta=beta)\n",
    "        self.linear_2 = nn.Linear(in_features=num_hidden_layer, out_features=10, bias=False)\n",
    "        self.lif2 = snn.Leaky(beta=beta)\n",
    "\n",
    "    def forward(self, x):\n",
    "\n",
    "        # Initialize hidden states at t=0\n",
    "        mem1 = self.lif1.init_leaky()\n",
    "        mem2 = self.lif2.init_leaky()\n",
    "\n",
    "        # Record the final layer\n",
    "        spk2_rec = []\n",
    "        mem2_rec = []\n",
    "        spk1_rec = []\n",
    "\n",
    "        for step in range(num_steps):\n",
    "            cur1 = self.linear_1(x)\n",
    "            spk1, mem1 = self.lif1(cur1, mem1)\n",
    "            spk1_rec.append(spk1)\n",
    "            cur2 = self.linear_2(spk1)\n",
    "            spk2, mem2 = self.lif2(cur2, mem2)\n",
    "            spk2_rec.append(spk2)\n",
    "            mem2_rec.append(mem2)\n",
    "\n",
    "        return torch.stack(spk1_rec, dim=0) , torch.stack(spk2_rec, dim=0), torch.stack(mem2_rec, dim=0)\n",
    "\n",
    "# Load the network onto CUDA if available\n",
    "num_hidden_layer = 150\n",
    "model = Net(num_hidden_layer=num_hidden_layer).to(device)\n",
    "next(model.parameters()).is_cuda\n"
   ]
  },
  {
   "cell_type": "code",
   "execution_count": 7,
   "metadata": {},
   "outputs": [],
   "source": [
    "loss = nn.CrossEntropyLoss()\n",
    "optimizer = torch.optim.Adam(model.parameters(), lr=0.001)"
   ]
  },
  {
   "cell_type": "code",
   "execution_count": 8,
   "metadata": {},
   "outputs": [],
   "source": [
    "def accuracy():\n",
    "    with torch.no_grad():\n",
    "        n_correct = 0\n",
    "        n_samples = 0\n",
    "        for images, label in test_loader:\n",
    "            images = images.reshape(-1, 28*28).to(device)\n",
    "            label = label.to(device)\n",
    "\n",
    "            # Test set forward pass\n",
    "            _, test_spk, test_mem = model(images.view(batch_size, -1))\n",
    "            n_samples += label.size(0)\n",
    "            _, idx = test_spk.sum(dim=0).max(1)\n",
    "            n_correct+= (label == idx).sum().item()\n",
    "            return(n_correct/n_samples * 100)"
   ]
  },
  {
   "cell_type": "code",
   "execution_count": 9,
   "metadata": {},
   "outputs": [
    {
     "name": "stdout",
     "output_type": "stream",
     "text": [
      "Epoch [1/5], Step[50/468], Loss: 29.5532\n",
      "-------------------------\n",
      "Epoch [1/5], Step[100/468], Loss: 21.0510\n",
      "-------------------------\n",
      "Epoch [1/5], Step[150/468], Loss: 19.4769\n",
      "-------------------------\n",
      "Epoch [1/5], Step[200/468], Loss: 17.0460\n",
      "-------------------------\n",
      "Epoch [1/5], Step[250/468], Loss: 18.8502\n",
      "-------------------------\n",
      "Epoch [1/5], Step[300/468], Loss: 15.1217\n",
      "-------------------------\n",
      "Accuracy before stashing 86.71875\n",
      "Node stashed [0, 1, 2, 3, 4, 6, 9, 11, 12, 13, 15, 16, 17, 18, 19, 21, 22, 23, 24, 25, 27, 31, 32, 36, 38, 39, 40, 41, 44, 45, 48, 49, 57, 58, 59, 60, 61, 63, 66, 69, 70, 72, 73, 74, 77, 78, 79, 81, 82, 83, 84, 91, 93, 95, 97, 99, 100, 101, 103, 104, 105, 106, 107, 108, 109, 110, 111, 114, 115, 116, 118, 120, 123, 125, 126, 127, 128, 129, 130, 132, 137, 138, 140, 141, 144, 145, 148]\n",
      "-------------------------\n",
      "Accuracy after_stashing is 42.96875\n",
      "Epoch [1/5], Step[350/468], Loss: 30.7969\n",
      "-------------------------\n",
      "Epoch [1/5], Step[400/468], Loss: 24.8153\n",
      "-------------------------\n",
      "Epoch [1/5], Step[450/468], Loss: 22.8665\n",
      "-------------------------\n",
      "Epoch [2/5], Step[50/468], Loss: 23.2819\n",
      "-------------------------\n",
      "Epoch [2/5], Step[100/468], Loss: 23.5805\n",
      "-------------------------\n",
      "Epoch [2/5], Step[150/468], Loss: 25.8417\n",
      "-------------------------\n",
      "Epoch [2/5], Step[200/468], Loss: 19.3781\n",
      "-------------------------\n",
      "Epoch [2/5], Step[250/468], Loss: 19.3772\n",
      "-------------------------\n",
      "Epoch [2/5], Step[300/468], Loss: 22.1056\n",
      "-------------------------\n",
      "Accuracy before stashing 79.6875\n",
      "Node stashed [7, 8, 20, 26, 28, 29, 33, 35, 43, 46, 47, 50, 52, 54, 62, 65, 67, 71, 75, 85, 90, 94, 98, 102, 112, 119, 121, 131, 135, 136, 139, 143, 147, 149]\n",
      "-------------------------\n",
      "Accuracy after_stashing is 18.75\n",
      "Epoch [2/5], Step[350/468], Loss: 39.3828\n",
      "-------------------------\n",
      "Epoch [2/5], Step[400/468], Loss: 37.4538\n",
      "-------------------------\n",
      "Epoch [2/5], Step[450/468], Loss: 33.0146\n",
      "-------------------------\n",
      "Epoch [3/5], Step[50/468], Loss: 34.4777\n",
      "-------------------------\n",
      "Epoch [3/5], Step[100/468], Loss: 31.6632\n",
      "-------------------------\n",
      "Epoch [3/5], Step[150/468], Loss: 29.6694\n",
      "-------------------------\n",
      "Epoch [3/5], Step[200/468], Loss: 29.8180\n",
      "-------------------------\n",
      "Epoch [3/5], Step[250/468], Loss: 27.7893\n",
      "-------------------------\n",
      "Epoch [3/5], Step[300/468], Loss: 29.2389\n",
      "-------------------------\n",
      "Accuracy before stashing 50.78125\n",
      "Node stashed [10, 14, 30, 34, 37, 42, 51, 64, 86, 96, 122, 124, 133]\n",
      "-------------------------\n",
      "Accuracy after_stashing is 31.25\n",
      "Epoch [3/5], Step[350/468], Loss: 49.5568\n",
      "-------------------------\n",
      "Epoch [3/5], Step[400/468], Loss: 51.0946\n",
      "-------------------------\n",
      "Epoch [3/5], Step[450/468], Loss: 49.2819\n",
      "-------------------------\n",
      "Epoch [4/5], Step[50/468], Loss: 47.6675\n",
      "-------------------------\n",
      "Epoch [4/5], Step[100/468], Loss: 47.0630\n",
      "-------------------------\n",
      "Epoch [4/5], Step[150/468], Loss: 49.4931\n",
      "-------------------------\n",
      "Epoch [4/5], Step[200/468], Loss: 46.1871\n",
      "-------------------------\n",
      "Epoch [4/5], Step[250/468], Loss: 49.7983\n",
      "-------------------------\n",
      "Epoch [4/5], Step[300/468], Loss: 48.1737\n",
      "-------------------------\n",
      "Accuracy before stashing 32.8125\n",
      "Node stashed [80]\n",
      "-------------------------\n",
      "Accuracy after_stashing is 34.375\n",
      "Epoch [4/5], Step[350/468], Loss: 51.7867\n",
      "-------------------------\n",
      "Epoch [4/5], Step[400/468], Loss: 50.4537\n",
      "-------------------------\n",
      "Epoch [4/5], Step[450/468], Loss: 46.6211\n",
      "-------------------------\n",
      "Joined all the stashed nodes\n",
      "Assertions Passed\n",
      "Epoch [5/5], Step[50/468], Loss: 16.4652\n",
      "-------------------------\n",
      "Epoch [5/5], Step[100/468], Loss: 10.1492\n",
      "-------------------------\n",
      "Epoch [5/5], Step[150/468], Loss: 11.3073\n",
      "-------------------------\n",
      "Epoch [5/5], Step[200/468], Loss: 22.7479\n",
      "-------------------------\n",
      "Epoch [5/5], Step[250/468], Loss: 8.1788\n",
      "-------------------------\n",
      "Epoch [5/5], Step[300/468], Loss: 8.7831\n",
      "-------------------------\n",
      "Epoch [5/5], Step[350/468], Loss: 15.1171\n",
      "-------------------------\n",
      "Epoch [5/5], Step[400/468], Loss: 6.1269\n",
      "-------------------------\n",
      "Epoch [5/5], Step[450/468], Loss: 11.5209\n",
      "-------------------------\n",
      "Total nodes stashed 135\n",
      "CPU times: user 2min 50s, sys: 347 ms, total: 2min 51s\n",
      "Wall time: 2min 50s\n"
     ]
    }
   ],
   "source": [
    "%%time\n",
    "stashed_global = []\n",
    "stashed_lin1_wt_dict = {}\n",
    "stashed_lin1_bias_dict = {}\n",
    "stashed_lin2_wt_dict = {}\n",
    "threshold = 24\n",
    "accuracy_plot = []\n",
    "univ = [i for i in range(num_hidden_layer)]\n",
    "#spk1_freq_temp = torch.empty((batch_size,num_hidden_layer)).to(device)\n",
    "n_total_steps = len(train_loader)\n",
    "for epoch_iter in range(epochs):\n",
    "    spk1_freq_temp = torch.empty((batch_size,num_hidden_layer)).to(device)\n",
    "\n",
    "    if(epoch_iter == (epochs-1)):\n",
    "        print(\"Joined all the stashed nodes\")\n",
    "        for i in stashed_global:\n",
    "            assert model.linear_2.weight[:,i].any() == False\n",
    "            assert model.linear_1.weight[i,:].any() == False\n",
    "            assert model.linear_1.bias[i] == 0\n",
    "        print(\"Assertions Passed\")\n",
    "        with torch.no_grad():\n",
    "            for key in stashed_lin1_wt_dict:\n",
    "                model.linear_1.weight[key,:] = stashed_lin1_wt_dict[key]\n",
    "                model.linear_1.bias[key] = stashed_lin1_bias_dict[key]\n",
    "                model.linear_2.weight[:,key] = stashed_lin2_wt_dict[key]\n",
    "   \n",
    "\n",
    "    for i,(data, target) in enumerate(train_loader):\n",
    "        x = data.to(device)\n",
    "        y = target.to(device)\n",
    "        spk1_rec, spk_rec, mem_rec = model(x.view(batch_size, -1))\n",
    "        spk1_rec = torch.sum(spk1_rec, 0)\n",
    "        spk1_freq_temp = torch.cat((spk1_freq_temp, spk1_rec))\n",
    "        loss_val = torch.zeros((1),device=device)\n",
    "        for step in range(num_steps):\n",
    "            loss_val += loss(mem_rec[step], y)\n",
    "        optimizer.zero_grad()\n",
    "        loss_val.backward()\n",
    "        optimizer.step()\n",
    "\n",
    "        if((i+1) % 30 == 0):\n",
    "            accuracy_plot.append(accuracy())\n",
    "\n",
    "        if (i+1) % 50 == 0:\n",
    "             print (f'Epoch [{epoch_iter+1}/{epochs}], Step[{i+1}/{(n_total_steps)}], Loss: {loss_val.item():.4f}')\n",
    "             print(\"-------------------------\")\n",
    "        \n",
    "        if((epoch_iter<(epochs-1)) and (i+1) % 300 == 0):\n",
    "            stashed = []\n",
    "            print(\"Accuracy before stashing\", accuracy())\n",
    "            for j in univ:\n",
    "                if(spk1_freq_temp[-1,j]>threshold):\n",
    "                    stashed.append(j)\n",
    "                    stashed_global.append(j)\n",
    "            for k in stashed:\n",
    "                stashed_lin1_wt_dict[k] =model.linear_1.weight[k,:].clone().detach()\n",
    "                stashed_lin1_bias_dict[k] = model.linear_1.bias[k].clone().detach()\n",
    "                stashed_lin2_wt_dict[k] = model.linear_2.weight[:,k].clone().detach()\n",
    "            \n",
    "            print(\"Node stashed\", stashed)\n",
    "            print(\"-------------------------\")\n",
    "            univ = [i for i in univ if i not in stashed]\n",
    "        \n",
    "        if(epoch_iter<(epochs-1)):\n",
    "            for k in stashed_global:\n",
    "                with torch.no_grad():\n",
    "                    model.linear_1.weight[k,:] = 0\n",
    "                    model.linear_1.bias[k] = 0\n",
    "                    model.linear_2.weight[:,k] = 0\n",
    "            \n",
    "            if((i+1) % 300 == 0):\n",
    "                print(\"Accuracy after_stashing is\", accuracy())\n",
    "\n",
    "print(\"Total nodes stashed\", len(stashed_global))\n",
    "        "
   ]
  },
  {
   "cell_type": "code",
   "execution_count": 10,
   "metadata": {},
   "outputs": [
    {
     "name": "stdout",
     "output_type": "stream",
     "text": [
      "93.75\n"
     ]
    }
   ],
   "source": [
    "print(accuracy())\n",
    "accuracy_plot.append(accuracy())\n"
   ]
  },
  {
   "cell_type": "code",
   "execution_count": 11,
   "metadata": {},
   "outputs": [
    {
     "data": {
      "text/plain": [
       "[<matplotlib.lines.Line2D at 0x7f32529aad60>]"
      ]
     },
     "execution_count": 11,
     "metadata": {},
     "output_type": "execute_result"
    },
    {
     "data": {
      "image/png": "[encoded data removed]",
      "text/plain": [
       "<Figure size 640x480 with 1 Axes>"
      ]
     },
     "metadata": {},
     "output_type": "display_data"
    }
   ],
   "source": [
    "plt.plot(accuracy_plot)"
   ]
  },
  {
   "cell_type": "code",
   "execution_count": 12,
   "metadata": {},
   "outputs": [],
   "source": [
    "spk1_freq = spk1_freq_temp[batch_size:,:]\n",
    "spk1_freq = spk1_freq.cpu().detach().numpy()"
   ]
  },
  {
   "cell_type": "code",
   "execution_count": 13,
   "metadata": {},
   "outputs": [
    {
     "data": {
      "text/plain": [
       "(array([59.,  1.,  1.,  0.,  5.,  3.,  3.,  0.,  2., 76.]),\n",
       " array([ 0. ,  2.5,  5. ,  7.5, 10. , 12.5, 15. , 17.5, 20. , 22.5, 25. ],\n",
       "       dtype=float32),\n",
       " <BarContainer object of 10 artists>)"
      ]
     },
     "execution_count": 13,
     "metadata": {},
     "output_type": "execute_result"
    },
    {
     "data": {
      "image/png": "[encoded data removed]",
      "text/plain": [
       "<Figure size 640x480 with 1 Axes>"
      ]
     },
     "metadata": {},
     "output_type": "display_data"
    }
   ],
   "source": [
    "# Calculating the statistics of our spikes\n",
    "mean_all_node = np.mean(spk1_freq,axis=0)\n",
    "std_dev_all_node = np.std(spk1_freq,axis=0)\n",
    "skew_all_node = skew(spk1_freq,axis=0)\n",
    "successive_dif_all_node = np.diff(spk1_freq, axis=0)\n",
    "plt.hist(spk1_freq[-1,:])"
   ]
  },
  {
   "cell_type": "code",
   "execution_count": 14,
   "metadata": {},
   "outputs": [],
   "source": [
    "torch.save(model, 'static_SNN_stashing_thresholding_24.pt')"
   ]
  },
  {
   "cell_type": "code",
   "execution_count": 15,
   "metadata": {},
   "outputs": [],
   "source": [
    "# #Creating computational graph to see, whether all the neurons are contributing or not\n",
    "# batch = next(iter(train_loader))\n",
    "# yhat = net(batch[0].reshape(-1,28*28).to(device)) # Give dummy batch to forward().\n",
    "\n",
    "# from torchviz import make_dot\n",
    "\n",
    "# make_dot(yhat, params=dict(list(net.named_parameters()))).render(\"trial_1\", format=\"png\")"
   ]
  }
 ],
 "metadata": {
  "kernelspec": {
   "display_name": "base",
   "language": "python",
   "name": "python3"
  },
  "language_info": {
   "codemirror_mode": {
    "name": "ipython",
    "version": 3
   },
   "file_extension": ".py",
   "mimetype": "text/x-python",
   "name": "python",
   "nbconvert_exporter": "python",
   "pygments_lexer": "ipython3",
   "version": "3.9.13"
  },
  "orig_nbformat": 4
 },
 "nbformat": 4,
 "nbformat_minor": 2
}
